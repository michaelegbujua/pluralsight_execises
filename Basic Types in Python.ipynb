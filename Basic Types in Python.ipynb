{
 "cells": [
  {
   "cell_type": "code",
   "execution_count": 1,
   "id": "1498934d",
   "metadata": {},
   "outputs": [
    {
     "data": {
      "text/plain": [
       "5"
      ]
     },
     "execution_count": 1,
     "metadata": {},
     "output_type": "execute_result"
    }
   ],
   "source": [
    "int_var = 5\n",
    "\n",
    "int_var"
   ]
  },
  {
   "cell_type": "code",
   "execution_count": 2,
   "id": "f2b2f4d5",
   "metadata": {},
   "outputs": [
    {
     "data": {
      "text/plain": [
       "int"
      ]
     },
     "execution_count": 2,
     "metadata": {},
     "output_type": "execute_result"
    }
   ],
   "source": [
    "type(int_var)"
   ]
  },
  {
   "cell_type": "code",
   "execution_count": 3,
   "id": "eb3590d9",
   "metadata": {},
   "outputs": [
    {
     "data": {
      "text/plain": [
       "2.5"
      ]
     },
     "execution_count": 3,
     "metadata": {},
     "output_type": "execute_result"
    }
   ],
   "source": [
    "float_var = 2.5\n",
    "\n",
    "float_var"
   ]
  },
  {
   "cell_type": "code",
   "execution_count": 4,
   "id": "41ebe4fd",
   "metadata": {},
   "outputs": [
    {
     "data": {
      "text/plain": [
       "float"
      ]
     },
     "execution_count": 4,
     "metadata": {},
     "output_type": "execute_result"
    }
   ],
   "source": [
    "type(float_var)"
   ]
  },
  {
   "cell_type": "code",
   "execution_count": 5,
   "id": "2caca158",
   "metadata": {},
   "outputs": [
    {
     "data": {
      "text/plain": [
       "str"
      ]
     },
     "execution_count": 5,
     "metadata": {},
     "output_type": "execute_result"
    }
   ],
   "source": [
    "string_var = \"hello\"\n",
    "\n",
    "type(string_var)\n",
    "  "
   ]
  },
  {
   "cell_type": "code",
   "execution_count": 6,
   "id": "cf5fe224",
   "metadata": {},
   "outputs": [
    {
     "data": {
      "text/plain": [
       "bool"
      ]
     },
     "execution_count": 6,
     "metadata": {},
     "output_type": "execute_result"
    }
   ],
   "source": [
    "bool_var = True\n",
    "type(bool_var)"
   ]
  },
  {
   "cell_type": "code",
   "execution_count": 7,
   "id": "2cf484ac",
   "metadata": {},
   "outputs": [
    {
     "name": "stdout",
     "output_type": "stream",
     "text": [
      "hello\n"
     ]
    }
   ],
   "source": [
    "print(string_var)"
   ]
  },
  {
   "cell_type": "code",
   "execution_count": 9,
   "id": "00b809cb",
   "metadata": {},
   "outputs": [
    {
     "name": "stdout",
     "output_type": "stream",
     "text": [
      "5 2.5 hello True\n"
     ]
    }
   ],
   "source": [
    "print(int_var, float_var, string_var, bool_var)"
   ]
  },
  {
   "cell_type": "markdown",
   "id": "4b261b89",
   "metadata": {},
   "source": [
    "##converting numbers into string and vice versa"
   ]
  },
  {
   "cell_type": "code",
   "execution_count": 10,
   "id": "5079465d",
   "metadata": {},
   "outputs": [
    {
     "data": {
      "text/plain": [
       "'5'"
      ]
     },
     "execution_count": 10,
     "metadata": {},
     "output_type": "execute_result"
    }
   ],
   "source": [
    "str(int_var)"
   ]
  },
  {
   "cell_type": "code",
   "execution_count": 11,
   "id": "04328d20",
   "metadata": {},
   "outputs": [
    {
     "data": {
      "text/plain": [
       "'2.5'"
      ]
     },
     "execution_count": 11,
     "metadata": {},
     "output_type": "execute_result"
    }
   ],
   "source": [
    "str(float_var)"
   ]
  },
  {
   "cell_type": "code",
   "execution_count": 12,
   "id": "a9d209ca",
   "metadata": {},
   "outputs": [
    {
     "data": {
      "text/plain": [
       "10"
      ]
     },
     "execution_count": 12,
     "metadata": {},
     "output_type": "execute_result"
    }
   ],
   "source": [
    "string_holding_int = '10'\n",
    "int(string_holding_int)"
   ]
  },
  {
   "cell_type": "code",
   "execution_count": 14,
   "id": "cdc1ea32",
   "metadata": {},
   "outputs": [
    {
     "data": {
      "text/plain": [
       "5"
      ]
     },
     "execution_count": 14,
     "metadata": {},
     "output_type": "execute_result"
    }
   ],
   "source": [
    "float_val = 5.57\n",
    "int(float_val)"
   ]
  },
  {
   "cell_type": "code",
   "execution_count": 15,
   "id": "270f1b99",
   "metadata": {},
   "outputs": [
    {
     "data": {
      "text/plain": [
       "34.0"
      ]
     },
     "execution_count": 15,
     "metadata": {},
     "output_type": "execute_result"
    }
   ],
   "source": [
    "val = 34\n",
    "float(val)"
   ]
  },
  {
   "cell_type": "code",
   "execution_count": 16,
   "id": "056d4203",
   "metadata": {},
   "outputs": [
    {
     "data": {
      "text/plain": [
       "'True'"
      ]
     },
     "execution_count": 16,
     "metadata": {},
     "output_type": "execute_result"
    }
   ],
   "source": [
    "str(bool_var)"
   ]
  },
  {
   "cell_type": "code",
   "execution_count": 20,
   "id": "e7e5c5ca",
   "metadata": {},
   "outputs": [
    {
     "data": {
      "text/plain": [
       "'Number of empty boxes !53'"
      ]
     },
     "execution_count": 20,
     "metadata": {},
     "output_type": "execute_result"
    }
   ],
   "source": [
    "boxes = 117\n",
    "loaded_boxes = 64\n",
    "\n",
    "number_of_empty_boxes = 'Number of empty boxes !' + str(boxes - loaded_boxes)\n",
    "\n",
    "\n",
    "number_of_empty_boxes"
   ]
  },
  {
   "cell_type": "markdown",
   "id": "b70ade72",
   "metadata": {},
   "source": [
    "##Defining Strings  1. single quotes 2. Double Quotes 3. Triple Quotes"
   ]
  },
  {
   "cell_type": "code",
   "execution_count": 22,
   "id": "274a3ffc",
   "metadata": {},
   "outputs": [
    {
     "data": {
      "text/plain": [
       "\"i'm kelvin\""
      ]
     },
     "execution_count": 22,
     "metadata": {},
     "output_type": "execute_result"
    }
   ],
   "source": [
    "\"i'm kelvin\""
   ]
  },
  {
   "cell_type": "code",
   "execution_count": 26,
   "id": "2f6f0ba5",
   "metadata": {},
   "outputs": [
    {
     "data": {
      "text/plain": [
       "\"1'm Calvin\""
      ]
     },
     "execution_count": 26,
     "metadata": {},
     "output_type": "execute_result"
    }
   ],
   "source": [
    "'1\\'m Calvin'       #excape character "
   ]
  },
  {
   "cell_type": "code",
   "execution_count": 30,
   "id": "64f2f8cc",
   "metadata": {},
   "outputs": [
    {
     "data": {
      "text/plain": [
       "'once upon a time there lived a software programer who ever lived , lazy but briliant in mind, always thinking outside the box, and suddenly started working with turing'"
      ]
     },
     "execution_count": 30,
     "metadata": {},
     "output_type": "execute_result"
    }
   ],
   "source": [
    "'''once upon a time there lived a software programer who ever lived , lazy but briliant in mind, always thinking outside the box, and suddenly started working with turing'''   #multi-line string are triple quote"
   ]
  },
  {
   "cell_type": "code",
   "execution_count": null,
   "id": "cccc803e",
   "metadata": {},
   "outputs": [],
   "source": []
  }
 ],
 "metadata": {
  "kernelspec": {
   "display_name": "Python 3",
   "language": "python",
   "name": "python3"
  },
  "language_info": {
   "codemirror_mode": {
    "name": "ipython",
    "version": 3
   },
   "file_extension": ".py",
   "mimetype": "text/x-python",
   "name": "python",
   "nbconvert_exporter": "python",
   "pygments_lexer": "ipython3",
   "version": "3.8.8"
  }
 },
 "nbformat": 4,
 "nbformat_minor": 5
}
