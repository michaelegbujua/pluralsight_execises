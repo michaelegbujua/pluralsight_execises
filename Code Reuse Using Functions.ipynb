{
 "cells": [
  {
   "cell_type": "markdown",
   "id": "8053e3e3",
   "metadata": {},
   "source": [
    "# CODE REUSE USING FUNCTION"
   ]
  },
  {
   "cell_type": "markdown",
   "id": "3f93ade2",
   "metadata": {},
   "source": [
    "Code reuse means write once and use as many times as possible"
   ]
  },
  {
   "cell_type": "markdown",
   "id": "0d5fed4d",
   "metadata": {},
   "source": [
    "functions may be Custom or user defined, we've been using the  custom functions in writing program bu in this module we will dwell more on user defined functions"
   ]
  },
  {
   "cell_type": "code",
   "execution_count": 1,
   "id": "a341e4fe",
   "metadata": {},
   "outputs": [],
   "source": [
    "def do_something():\n",
    "    pass"
   ]
  },
  {
   "cell_type": "code",
   "execution_count": 2,
   "id": "3a095cd4",
   "metadata": {},
   "outputs": [],
   "source": [
    "do_something()"
   ]
  },
  {
   "cell_type": "code",
   "execution_count": 3,
   "id": "ee6b9f70",
   "metadata": {},
   "outputs": [],
   "source": [
    "def greet():\n",
    "    print(\"Good Morning to you!\")"
   ]
  },
  {
   "cell_type": "code",
   "execution_count": 4,
   "id": "0592d979",
   "metadata": {},
   "outputs": [
    {
     "name": "stdout",
     "output_type": "stream",
     "text": [
      "Good Morning to you!\n"
     ]
    }
   ],
   "source": [
    "greet()"
   ]
  },
  {
   "cell_type": "code",
   "execution_count": 5,
   "id": "24601514",
   "metadata": {},
   "outputs": [
    {
     "name": "stdout",
     "output_type": "stream",
     "text": [
      "Hello\n"
     ]
    }
   ],
   "source": [
    "print(\"Hello\")"
   ]
  },
  {
   "cell_type": "code",
   "execution_count": 6,
   "id": "3deb7c34",
   "metadata": {},
   "outputs": [
    {
     "data": {
      "text/plain": [
       "5"
      ]
     },
     "execution_count": 6,
     "metadata": {},
     "output_type": "execute_result"
    }
   ],
   "source": [
    "len(\"Hello\")"
   ]
  },
  {
   "cell_type": "code",
   "execution_count": 8,
   "id": "0be4e3c0",
   "metadata": {},
   "outputs": [
    {
     "data": {
      "text/plain": [
       "20"
      ]
     },
     "execution_count": 8,
     "metadata": {},
     "output_type": "execute_result"
    }
   ],
   "source": [
    "num_list = [2, 4, 6, 8]\n",
    "sum(num_list)"
   ]
  },
  {
   "cell_type": "code",
   "execution_count": 9,
   "id": "94f08629",
   "metadata": {},
   "outputs": [
    {
     "data": {
      "text/plain": [
       "10"
      ]
     },
     "execution_count": 9,
     "metadata": {},
     "output_type": "execute_result"
    }
   ],
   "source": [
    "abs(-10)"
   ]
  },
  {
   "cell_type": "code",
   "execution_count": 10,
   "id": "a79cb400",
   "metadata": {},
   "outputs": [],
   "source": [
    "def say_hello():\n",
    "    print(\"Hello there!\")\n",
    "    "
   ]
  },
  {
   "cell_type": "code",
   "execution_count": 12,
   "id": "27351f94",
   "metadata": {},
   "outputs": [
    {
     "name": "stdout",
     "output_type": "stream",
     "text": [
      "Hello there!\n"
     ]
    }
   ],
   "source": [
    "say_hello()"
   ]
  },
  {
   "cell_type": "code",
   "execution_count": 18,
   "id": "e8f83132",
   "metadata": {},
   "outputs": [],
   "source": [
    "def causes_error():\n",
    "    some_var = 'some stuff here'\n",
    "    print(some_var)\n"
   ]
  },
  {
   "cell_type": "code",
   "execution_count": 19,
   "id": "76462609",
   "metadata": {},
   "outputs": [
    {
     "name": "stdout",
     "output_type": "stream",
     "text": [
      "some stuff here\n"
     ]
    }
   ],
   "source": [
    "causes_error()"
   ]
  },
  {
   "cell_type": "code",
   "execution_count": 20,
   "id": "b6cec54f",
   "metadata": {},
   "outputs": [],
   "source": [
    "a = 2\n",
    "b = 3\n",
    "c = 4\n",
    "\n",
    "def calculate_sum():\n",
    "    result = a + b + c\n",
    "    print('Sum of a, b, c is : ', result)\n",
    "    if result < 10:\n",
    "        print('the sum is less than 10!')"
   ]
  },
  {
   "cell_type": "code",
   "execution_count": 22,
   "id": "bbe5bb92",
   "metadata": {},
   "outputs": [
    {
     "name": "stdout",
     "output_type": "stream",
     "text": [
      "Sum of a, b, c is :  9\n",
      "the sum is less than 10!\n"
     ]
    }
   ],
   "source": [
    "calculate_sum()"
   ]
  },
  {
   "cell_type": "code",
   "execution_count": 23,
   "id": "9a88fbf0",
   "metadata": {},
   "outputs": [
    {
     "name": "stdout",
     "output_type": "stream",
     "text": [
      "Sum of a, b, c is :  8\n",
      "the sum is less than 10!\n"
     ]
    }
   ],
   "source": [
    "a = 1\n",
    "calculate_sum()"
   ]
  },
  {
   "cell_type": "code",
   "execution_count": 24,
   "id": "da7a1b0e",
   "metadata": {},
   "outputs": [
    {
     "name": "stdout",
     "output_type": "stream",
     "text": [
      "Sum of a, b, c is :  105\n"
     ]
    }
   ],
   "source": [
    "b = 100\n",
    "calculate_sum()"
   ]
  },
  {
   "cell_type": "markdown",
   "id": "f99a85e0",
   "metadata": {},
   "source": [
    "FUNCTION, INPUTS, ARGUMENT AND RETURN VALUES"
   ]
  },
  {
   "cell_type": "code",
   "execution_count": 25,
   "id": "3517d089",
   "metadata": {},
   "outputs": [],
   "source": [
    "def calculate_sum(a,b,c):\n",
    "    result = a + b + c\n",
    "    print('sum of a, b, c is : ', result)\n",
    "    if result < 10:\n",
    "        print('the sum is less than 10')\n",
    "    else:\n",
    "        print('the sum is greater than 10')"
   ]
  },
  {
   "cell_type": "code",
   "execution_count": 27,
   "id": "8abf2a56",
   "metadata": {},
   "outputs": [
    {
     "name": "stdout",
     "output_type": "stream",
     "text": [
      "sum of a, b, c is :  11\n",
      "the sum is greater than 10\n"
     ]
    }
   ],
   "source": [
    "calculate_sum(4, 5, 2)"
   ]
  },
  {
   "cell_type": "code",
   "execution_count": 28,
   "id": "880dad55",
   "metadata": {},
   "outputs": [
    {
     "name": "stdout",
     "output_type": "stream",
     "text": [
      "sum of a, b, c is :  12\n",
      "the sum is greater than 10\n"
     ]
    }
   ],
   "source": [
    "x = 3\n",
    "y = 4\n",
    "z = 5\n",
    "calculate_sum(x,y,z)"
   ]
  },
  {
   "cell_type": "code",
   "execution_count": 29,
   "id": "444a3d65",
   "metadata": {},
   "outputs": [],
   "source": [
    "def raise_to_the_power(num, exponent):\n",
    "    power = num ** exponent\n",
    "    print(power)"
   ]
  },
  {
   "cell_type": "code",
   "execution_count": 30,
   "id": "bded59e9",
   "metadata": {},
   "outputs": [
    {
     "name": "stdout",
     "output_type": "stream",
     "text": [
      "16\n"
     ]
    }
   ],
   "source": [
    "raise_to_the_power(4,2)"
   ]
  },
  {
   "cell_type": "code",
   "execution_count": 34,
   "id": "81f27bc8",
   "metadata": {},
   "outputs": [
    {
     "name": "stdout",
     "output_type": "stream",
     "text": [
      "27\n"
     ]
    }
   ],
   "source": [
    "raise_to_the_power(3,3)"
   ]
  },
  {
   "cell_type": "code",
   "execution_count": 40,
   "id": "86d2b73b",
   "metadata": {},
   "outputs": [],
   "source": [
    "def raise_to_the_power(num, exponent):\n",
    "    power = num ** exponent\n",
    "    return power"
   ]
  },
  {
   "cell_type": "code",
   "execution_count": 43,
   "id": "21e6967d",
   "metadata": {},
   "outputs": [
    {
     "data": {
      "text/plain": [
       "81"
      ]
     },
     "execution_count": 43,
     "metadata": {},
     "output_type": "execute_result"
    }
   ],
   "source": [
    "raise_to_the_power(9,2)"
   ]
  },
  {
   "cell_type": "code",
   "execution_count": 44,
   "id": "d2124376",
   "metadata": {},
   "outputs": [
    {
     "data": {
      "text/plain": [
       "81"
      ]
     },
     "execution_count": 44,
     "metadata": {},
     "output_type": "execute_result"
    }
   ],
   "source": [
    "result = raise_to_the_power(9,2)\n",
    "result"
   ]
  },
  {
   "cell_type": "code",
   "execution_count": 47,
   "id": "2f4326a3",
   "metadata": {},
   "outputs": [],
   "source": [
    "def square_and_cube(num):\n",
    "    square = num ** 2\n",
    "    cube = num ** 3\n",
    "    \n",
    "    return square, cube"
   ]
  },
  {
   "cell_type": "code",
   "execution_count": 48,
   "id": "b7e542e6",
   "metadata": {},
   "outputs": [
    {
     "data": {
      "text/plain": [
       "(9, 27)"
      ]
     },
     "execution_count": 48,
     "metadata": {},
     "output_type": "execute_result"
    }
   ],
   "source": [
    "square_and_cube(3)"
   ]
  },
  {
   "cell_type": "code",
   "execution_count": 49,
   "id": "344700b8",
   "metadata": {},
   "outputs": [
    {
     "data": {
      "text/plain": [
       "(4, 8)"
      ]
     },
     "execution_count": 49,
     "metadata": {},
     "output_type": "execute_result"
    }
   ],
   "source": [
    "square_and_cube(2)"
   ]
  },
  {
   "cell_type": "code",
   "execution_count": 53,
   "id": "441750c8",
   "metadata": {},
   "outputs": [
    {
     "data": {
      "text/plain": [
       "tuple"
      ]
     },
     "execution_count": 53,
     "metadata": {},
     "output_type": "execute_result"
    }
   ],
   "source": [
    "type(square_and_cube(2))"
   ]
  },
  {
   "cell_type": "markdown",
   "id": "4145a885",
   "metadata": {},
   "source": [
    "# REASSIGNING AND MODIFYING VARIABLES WITH A FUNCTION"
   ]
  },
  {
   "cell_type": "markdown",
   "id": "5f78cbd2",
   "metadata": {},
   "source": [
    "All variables outside a function but within the confines of the codes are refered to as GLOBAL VARIABLES, while variables within a function is refered to LOCAL VARIABLES"
   ]
  },
  {
   "cell_type": "code",
   "execution_count": 10,
   "id": "470ac671",
   "metadata": {},
   "outputs": [],
   "source": [
    "int_var = 3\n",
    "float_var = 3.3\n",
    "string_var = 'Hello'\n",
    "bool_var = True"
   ]
  },
  {
   "cell_type": "code",
   "execution_count": 14,
   "id": "f679f676",
   "metadata": {},
   "outputs": [],
   "source": [
    "def reassign_arguments_basictype(int_var, float_var, string_var, bool_var):\n",
    "    int_var = 30\n",
    "    float_var = 30.2\n",
    "    string_var = 'Goodbye!'\n",
    "    bool_var = False\n",
    "    \n",
    "    print('inside the function: ', int_var, float_var, string_var, bool_var)\n",
    "    "
   ]
  },
  {
   "cell_type": "code",
   "execution_count": 15,
   "id": "51634926",
   "metadata": {},
   "outputs": [
    {
     "name": "stdout",
     "output_type": "stream",
     "text": [
      "outside the function: 3 3.3 Hello True\n"
     ]
    }
   ],
   "source": [
    "print('outside the function:', int_var, float_var, string_var, bool_var)"
   ]
  },
  {
   "cell_type": "code",
   "execution_count": 16,
   "id": "8c5142d3",
   "metadata": {},
   "outputs": [
    {
     "name": "stdout",
     "output_type": "stream",
     "text": [
      "inside the function:  30 30.2 Goodbye! False\n"
     ]
    }
   ],
   "source": [
    "reassign_arguments_basictype(int_var, float_var, string_var, bool_var)"
   ]
  },
  {
   "cell_type": "markdown",
   "id": "10f5204d",
   "metadata": {},
   "source": [
    "REASSIGN ARGUMENTS COMPLEX TYPES"
   ]
  },
  {
   "cell_type": "code",
   "execution_count": 17,
   "id": "cd276d2b",
   "metadata": {},
   "outputs": [],
   "source": [
    "some_list = [\"john\", \"Mary\"]\n",
    "some_tuple =(\"John\", \"Mary\")\n",
    "some_dictionary = {\"John\": 50, \"Mary\": 55}"
   ]
  },
  {
   "cell_type": "code",
   "execution_count": 20,
   "id": "3a9e2f07",
   "metadata": {},
   "outputs": [],
   "source": [
    "def reassign_arguments_complextype(some_list, some_tuple, some_dictionary):\n",
    "    some_list = (\"Alice\")\n",
    "    some_tuple = (\"Alice\")\n",
    "    some_dictionary = {\"Alice\": 25}\n",
    "    \n",
    "    print(\"inside the function: \", some_list, some_tuple, some_dictionary)"
   ]
  },
  {
   "cell_type": "code",
   "execution_count": 21,
   "id": "e3171b8b",
   "metadata": {},
   "outputs": [
    {
     "name": "stdout",
     "output_type": "stream",
     "text": [
      "Outside the function: ['john', 'Mary'] ('John', 'Mary') {'John': 50, 'Mary': 55}\n"
     ]
    }
   ],
   "source": [
    "print(\"Outside the function:\", some_list, some_tuple, some_dictionary)"
   ]
  },
  {
   "cell_type": "code",
   "execution_count": 23,
   "id": "9da21e7d",
   "metadata": {},
   "outputs": [
    {
     "name": "stdout",
     "output_type": "stream",
     "text": [
      "inside the function:  Alice Alice {'Alice': 25}\n"
     ]
    }
   ],
   "source": [
    "reassign_arguments_complextype(some_list, some_tuple, some_dictionary)"
   ]
  },
  {
   "cell_type": "markdown",
   "id": "a1306eb4",
   "metadata": {},
   "source": [
    "# ARGUMENT REASSIGNMENT VS MODIFICATION "
   ]
  },
  {
   "cell_type": "code",
   "execution_count": 31,
   "id": "615f3a10",
   "metadata": {},
   "outputs": [],
   "source": [
    "popular_story_books = [\"Geronino Stilton\",\n",
    "                       \"Thea Stilton\",\n",
    "                       \"Tirny Failure\",\n",
    "                       \"Asterix\",\n",
    "                       \"Tintin\"]"
   ]
  },
  {
   "cell_type": "code",
   "execution_count": 32,
   "id": "4f9c938f",
   "metadata": {},
   "outputs": [],
   "source": [
    "def modify_list(popular_story_books):\n",
    "    popular_story_books.append(\"Dr. Seuss\")\n",
    "    print(popular_story_books)"
   ]
  },
  {
   "cell_type": "code",
   "execution_count": 27,
   "id": "b5103220",
   "metadata": {},
   "outputs": [
    {
     "name": "stdout",
     "output_type": "stream",
     "text": [
      "Outside the function ['Geronino Stilton', 'Thea Stilton', 'Tirny Failure', 'Asterix', 'Tintin']\n"
     ]
    }
   ],
   "source": [
    "print( \"Outside the function\", popular_story_books)"
   ]
  },
  {
   "cell_type": "code",
   "execution_count": 33,
   "id": "49cea307",
   "metadata": {},
   "outputs": [
    {
     "name": "stdout",
     "output_type": "stream",
     "text": [
      "['Geronino Stilton', 'Thea Stilton', 'Tirny Failure', 'Asterix', 'Tintin', 'Dr. Seuss']\n"
     ]
    }
   ],
   "source": [
    "modify_list(popular_story_books)"
   ]
  },
  {
   "cell_type": "markdown",
   "id": "c72ab089",
   "metadata": {},
   "source": [
    "modification to a complex datatype within a function are also reflected outside that function"
   ]
  },
  {
   "cell_type": "code",
   "execution_count": 34,
   "id": "980a694a",
   "metadata": {},
   "outputs": [
    {
     "data": {
      "text/plain": [
       "['Geronino Stilton',\n",
       " 'Thea Stilton',\n",
       " 'Tirny Failure',\n",
       " 'Asterix',\n",
       " 'Tintin',\n",
       " 'Dr. Seuss']"
      ]
     },
     "execution_count": 34,
     "metadata": {},
     "output_type": "execute_result"
    }
   ],
   "source": [
    " popular_story_books"
   ]
  },
  {
   "cell_type": "code",
   "execution_count": 47,
   "id": "7c8b5271",
   "metadata": {},
   "outputs": [],
   "source": [
    "story_books = [\"Avatar\", \"Aladdin\", \"Cindarella\", \"snow white\"]\n",
    "\n",
    "def modify_list(popular_story_books):\n",
    "    story_books[1] = \"Junie B Jones\"\n",
    "    story_books.pop()"
   ]
  },
  {
   "cell_type": "code",
   "execution_count": 49,
   "id": "591da6f7",
   "metadata": {},
   "outputs": [
    {
     "data": {
      "text/plain": [
       "['Avatar', 'Aladdin', 'Cindarella', 'snow white']"
      ]
     },
     "execution_count": 49,
     "metadata": {},
     "output_type": "execute_result"
    }
   ],
   "source": [
    "story_books"
   ]
  },
  {
   "cell_type": "code",
   "execution_count": 53,
   "id": "533e887c",
   "metadata": {},
   "outputs": [],
   "source": [
    "popular_story_books_dict = {'Geronino Stilton': 4,\n",
    "                      'Thea Stilton': 5,\n",
    "                      'Tirny Failure': 2,\n",
    "                      'Asterix': 12,\n",
    "                      'Tintin': 8,}"
   ]
  },
  {
   "cell_type": "code",
   "execution_count": 54,
   "id": "1797b4c4",
   "metadata": {},
   "outputs": [],
   "source": [
    "def modify_dict(story_books_dict):\n",
    "    del story_books_dict['Tintin']\n",
    "    \n",
    "    story_books_dict['Famous Five'] = 3"
   ]
  },
  {
   "cell_type": "code",
   "execution_count": 55,
   "id": "04d1dc45",
   "metadata": {},
   "outputs": [
    {
     "data": {
      "text/plain": [
       "{'Geronino Stilton': 4,\n",
       " 'Thea Stilton': 5,\n",
       " 'Tirny Failure': 2,\n",
       " 'Asterix': 12,\n",
       " 'Famous Five': 3}"
      ]
     },
     "execution_count": 55,
     "metadata": {},
     "output_type": "execute_result"
    }
   ],
   "source": [
    "modify_dict(popular_story_books_dict)\n",
    "\n",
    "popular_story_books_dict"
   ]
  },
  {
   "cell_type": "markdown",
   "id": "5de39ce2",
   "metadata": {},
   "source": [
    "Defining functions with default values"
   ]
  },
  {
   "cell_type": "markdown",
   "id": "86265512",
   "metadata": {},
   "source": [
    "# working with functions as first-class citizens in Python"
   ]
  },
  {
   "cell_type": "code",
   "execution_count": 61,
   "id": "f81dc0f0",
   "metadata": {},
   "outputs": [],
   "source": [
    "def my_car(car):\n",
    "    print(\"my car is a \", car)"
   ]
  },
  {
   "cell_type": "code",
   "execution_count": 62,
   "id": "8169a445",
   "metadata": {},
   "outputs": [
    {
     "name": "stdout",
     "output_type": "stream",
     "text": [
      "my car is a  Ford Endeavor\n"
     ]
    }
   ],
   "source": [
    "my_car(\"Ford Endeavor\")"
   ]
  },
  {
   "cell_type": "code",
   "execution_count": 63,
   "id": "c66f445f",
   "metadata": {},
   "outputs": [
    {
     "data": {
      "text/plain": [
       "<function __main__.my_car(car)>"
      ]
     },
     "execution_count": 63,
     "metadata": {},
     "output_type": "execute_result"
    }
   ],
   "source": [
    "my_car"
   ]
  },
  {
   "cell_type": "code",
   "execution_count": 71,
   "id": "520c348f",
   "metadata": {},
   "outputs": [],
   "source": [
    "car_fn = my_car              #variable parsing Assignment"
   ]
  },
  {
   "cell_type": "code",
   "execution_count": 70,
   "id": "ab995a76",
   "metadata": {},
   "outputs": [
    {
     "name": "stdout",
     "output_type": "stream",
     "text": [
      "my car is a  Porsche Panamera\n"
     ]
    }
   ],
   "source": [
    "car_fn(\"Porsche Panamera\")"
   ]
  },
  {
   "cell_type": "code",
   "execution_count": 72,
   "id": "396964ac",
   "metadata": {},
   "outputs": [],
   "source": [
    " maximum = max"
   ]
  },
  {
   "cell_type": "code",
   "execution_count": 74,
   "id": "5314098a",
   "metadata": {},
   "outputs": [
    {
     "data": {
      "text/plain": [
       "9678"
      ]
     },
     "execution_count": 74,
     "metadata": {},
     "output_type": "execute_result"
    }
   ],
   "source": [
    "num_list = [56, 8, 9678, 987, 7]\n",
    "\n",
    "maximum(num_list)"
   ]
  },
  {
   "cell_type": "code",
   "execution_count": null,
   "id": "a7b32239",
   "metadata": {},
   "outputs": [],
   "source": []
  }
 ],
 "metadata": {
  "kernelspec": {
   "display_name": "Python 3",
   "language": "python",
   "name": "python3"
  },
  "language_info": {
   "codemirror_mode": {
    "name": "ipython",
    "version": 3
   },
   "file_extension": ".py",
   "mimetype": "text/x-python",
   "name": "python",
   "nbconvert_exporter": "python",
   "pygments_lexer": "ipython3",
   "version": "3.8.8"
  }
 },
 "nbformat": 4,
 "nbformat_minor": 5
}
