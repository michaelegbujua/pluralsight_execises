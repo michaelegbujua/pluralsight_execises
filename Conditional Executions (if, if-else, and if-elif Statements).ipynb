{
 "cells": [
  {
   "cell_type": "markdown",
   "id": "ebfa781c",
   "metadata": {},
   "source": [
    "# IF STATEMENT"
   ]
  },
  {
   "cell_type": "code",
   "execution_count": 2,
   "id": "b949b4a4",
   "metadata": {},
   "outputs": [
    {
     "name": "stdout",
     "output_type": "stream",
     "text": [
      "25 is less than 36\n"
     ]
    }
   ],
   "source": [
    "if 25 < 36:\n",
    "    print(\"25 is less than 36\")"
   ]
  },
  {
   "cell_type": "code",
   "execution_count": 3,
   "id": "1904b806",
   "metadata": {},
   "outputs": [],
   "source": [
    "if 25 > 36:\n",
    "    print(\"Really? is 25 greater than 36?\")"
   ]
  },
  {
   "cell_type": "code",
   "execution_count": 4,
   "id": "24a11c3e",
   "metadata": {},
   "outputs": [],
   "source": [
    "#it will not print any output when it evaluates to false, cos there's just one option\n"
   ]
  },
  {
   "cell_type": "code",
   "execution_count": 5,
   "id": "110671ef",
   "metadata": {},
   "outputs": [
    {
     "name": "stdout",
     "output_type": "stream",
     "text": [
      "35 and 25 are Not exactly the same value\n"
     ]
    }
   ],
   "source": [
    "if 35  !=  25 :\n",
    "    print(\"35 and 25 are Not exactly the same value\")"
   ]
  },
  {
   "cell_type": "code",
   "execution_count": 6,
   "id": "1a4b276e",
   "metadata": {},
   "outputs": [
    {
     "name": "stdout",
     "output_type": "stream",
     "text": [
      "35 and 25 are Not exactly the same value\n"
     ]
    }
   ],
   "source": [
    "if not 35 == 25:\n",
    "    print('35 and 25 are Not exactly the same value')"
   ]
  },
  {
   "cell_type": "markdown",
   "id": "01e9373b",
   "metadata": {},
   "source": [
    "Observe that Input 11 and Input 12 are alternative ways of writing the same code in python"
   ]
  },
  {
   "cell_type": "code",
   "execution_count": 7,
   "id": "93dd227f",
   "metadata": {},
   "outputs": [
    {
     "name": "stdout",
     "output_type": "stream",
     "text": [
      "The number is greater than zero  255\n"
     ]
    }
   ],
   "source": [
    "num = 255\n",
    "if num > 0:\n",
    "    print('The number is greater than zero ', num)"
   ]
  },
  {
   "cell_type": "code",
   "execution_count": 8,
   "id": "07e07116",
   "metadata": {},
   "outputs": [
    {
     "name": "stdout",
     "output_type": "stream",
     "text": [
      "The number is greater than zero 255\n"
     ]
    }
   ],
   "source": [
    "if num:\n",
    "    print('The number is greater than zero', num)"
   ]
  },
  {
   "cell_type": "code",
   "execution_count": 9,
   "id": "7310d9d1",
   "metadata": {},
   "outputs": [
    {
     "name": "stdout",
     "output_type": "stream",
     "text": [
      "35 + 165 = 100 + 100 is correct\n"
     ]
    }
   ],
   "source": [
    "if 35 + 165 == 100 + 100:\n",
    "    print('35 + 165 = 100 + 100 is correct')"
   ]
  },
  {
   "cell_type": "markdown",
   "id": "c461a488",
   "metadata": {},
   "source": [
    "# IF -ELSE STATEMENT"
   ]
  },
  {
   "cell_type": "code",
   "execution_count": 10,
   "id": "d1bd80bc",
   "metadata": {},
   "outputs": [],
   "source": [
    "salary = 1000\n",
    "expenses = 770"
   ]
  },
  {
   "cell_type": "code",
   "execution_count": 11,
   "id": "3d28795f",
   "metadata": {},
   "outputs": [],
   "source": [
    "living_within_means = False\n",
    "if salary - expenses > 0:\n",
    "    living_within_means = True"
   ]
  },
  {
   "cell_type": "code",
   "execution_count": 12,
   "id": "e5501433",
   "metadata": {},
   "outputs": [
    {
     "name": "stdout",
     "output_type": "stream",
     "text": [
      "Am I living within means? True\n"
     ]
    }
   ],
   "source": [
    "print('Am I living within means?', living_within_means)"
   ]
  },
  {
   "cell_type": "code",
   "execution_count": 13,
   "id": "51021bf2",
   "metadata": {},
   "outputs": [
    {
     "name": "stdout",
     "output_type": "stream",
     "text": [
      "100 > 50 > 10\n"
     ]
    }
   ],
   "source": [
    "if 100 > 50 > 10:\n",
    "    print(\"100 > 50 > 10\")"
   ]
  },
  {
   "cell_type": "code",
   "execution_count": 14,
   "id": "a73ce8be",
   "metadata": {},
   "outputs": [],
   "source": [
    "if  100 < 50 < 10:\n",
    "    print(\"Nothing will be printed\")"
   ]
  },
  {
   "cell_type": "markdown",
   "id": "26040d63",
   "metadata": {},
   "source": [
    "#because the statement evaluates to be false, nothing is being displayed"
   ]
  },
  {
   "cell_type": "code",
   "execution_count": 15,
   "id": "589aa217",
   "metadata": {},
   "outputs": [
    {
     "name": "stdout",
     "output_type": "stream",
     "text": [
      "i'm glad you're saving but perhaps your expenses could be lower?\n"
     ]
    }
   ],
   "source": [
    "salary = 1000\n",
    "expenses = 770\n",
    "\n",
    "living_within_means = salary - expenses > 0\n",
    "if living_within_means and expenses > 500:\n",
    "    print(\"i'm glad you're saving but perhaps your expenses could be lower?\")"
   ]
  },
  {
   "cell_type": "code",
   "execution_count": 16,
   "id": "cb135eaf",
   "metadata": {},
   "outputs": [
    {
     "name": "stdout",
     "output_type": "stream",
     "text": [
      "this is printed because 2 is definitely less than 5\n"
     ]
    }
   ],
   "source": [
    "if 2 <= 5 or 7 >= 8:\n",
    "    print('this is printed because 2 is definitely less than 5')"
   ]
  },
  {
   "cell_type": "code",
   "execution_count": 17,
   "id": "e5027f17",
   "metadata": {},
   "outputs": [
    {
     "name": "stdout",
     "output_type": "stream",
     "text": [
      "savings for the month: 230\n"
     ]
    }
   ],
   "source": [
    "salary = 1000\n",
    "expenses = 770\n",
    "savings = 0\n",
    "if salary > expenses:\n",
    "    savings = salary - expenses\n",
    "    print('savings for the month:', savings)"
   ]
  },
  {
   "cell_type": "code",
   "execution_count": 18,
   "id": "d6e9bcd0",
   "metadata": {},
   "outputs": [
    {
     "name": "stdout",
     "output_type": "stream",
     "text": [
      "Saving for the month 230\n"
     ]
    }
   ],
   "source": [
    "salary = 1000\n",
    "expenses = 770\n",
    "if salary > expenses:\n",
    "    print('Saving for the month', salary - expenses)\n",
    "else:\n",
    "    print('loans to tide over', expenses - salary)"
   ]
  },
  {
   "cell_type": "code",
   "execution_count": 19,
   "id": "086df94e",
   "metadata": {},
   "outputs": [
    {
     "name": "stdout",
     "output_type": "stream",
     "text": [
      "the smallest value in this list is positive\n",
      "2\n"
     ]
    }
   ],
   "source": [
    "some_list =[3, 5, 2, 9, 10, 100, 22, 21, 41]\n",
    "if  min(some_list) < 0:\n",
    "        print('the smallest value in this list is negative')\n",
    "else:\n",
    "        print('the smallest value in this list is positive')\n",
    "print(min(some_list))    "
   ]
  },
  {
   "cell_type": "code",
   "execution_count": 20,
   "id": "3cec8de2",
   "metadata": {},
   "outputs": [
    {
     "name": "stdout",
     "output_type": "stream",
     "text": [
      "loans taken 770\n",
      "savings  0 Loans  770\n"
     ]
    }
   ],
   "source": [
    "salary = 1000\n",
    "expenses = 1770\n",
    "\n",
    "savings = 0\n",
    "loans = 0\n",
    "\n",
    "if salary > expenses:\n",
    "    savings = salary - expenses\n",
    "    print('Savings for the month:', savings)\n",
    "else:\n",
    "    loans = abs(salary - expenses)\n",
    "    print('loans taken', loans)\n",
    "\n",
    "print('savings ', savings, 'Loans ', loans)"
   ]
  },
  {
   "cell_type": "markdown",
   "id": "26113605",
   "metadata": {},
   "source": [
    "# if ... elif  STATEMENT"
   ]
  },
  {
   "cell_type": "code",
   "execution_count": 21,
   "id": "ab006cf2",
   "metadata": {},
   "outputs": [],
   "source": [
    "classic_cars = [\"Pierce Arrow\", \"Oldsmobile\", \"Mustang\"]\n",
    "sports_cars = [\"Agera\", \"Regera\", \"Chiron\", \"Veyron\"]\n",
    "planes = [\"A380\", \"747\", \"A370\"]"
   ]
  },
  {
   "cell_type": "code",
   "execution_count": 22,
   "id": "6236e935",
   "metadata": {},
   "outputs": [
    {
     "name": "stdout",
     "output_type": "stream",
     "text": [
      "that isn't a very long list of classic Cars\n"
     ]
    }
   ],
   "source": [
    "if len(classic_cars) < 5:\n",
    "    print(\"that isn't a very long list of classic Cars\")"
   ]
  },
  {
   "cell_type": "code",
   "execution_count": 23,
   "id": "33db3387",
   "metadata": {},
   "outputs": [
    {
     "name": "stdout",
     "output_type": "stream",
     "text": [
      "Your type of transportation is a plane\n"
     ]
    }
   ],
   "source": [
    "transportation = 'A380'\n",
    "if transportation in classic_cars:\n",
    "    print('Your type of transportation is a classic car')\n",
    "    \n",
    "if transportation in sports_cars:\n",
    "    print('Your type of transportation is a sports car')\n",
    "\n",
    "if transportation in planes:\n",
    "    print('Your type of transportation is a plane')"
   ]
  },
  {
   "cell_type": "code",
   "execution_count": 24,
   "id": "6015099e",
   "metadata": {},
   "outputs": [],
   "source": [
    "luxury_cars_and_their_horsepowers = {\"Phantom\": 414,\n",
    "                                     \"Cullinan\": 420,\n",
    "                                     \"Wraith\": 465,\n",
    "                                     \"Ghost\": 420,\n",
    "                                     \"Dawn\": 420\n",
    "                                     }"
   ]
  },
  {
   "cell_type": "code",
   "execution_count": 25,
   "id": "c4e121f1",
   "metadata": {},
   "outputs": [
    {
     "name": "stdout",
     "output_type": "stream",
     "text": [
      "the Phantom is in the Luxury_carsand_their_horsepowers\n"
     ]
    }
   ],
   "source": [
    "if 'Phantom' in luxury_cars_and_their_horsepowers:\n",
    "    print(\"the Phantom is in the Luxury_carsand_their_horsepowers\")"
   ]
  },
  {
   "cell_type": "code",
   "execution_count": 26,
   "id": "76aee998",
   "metadata": {},
   "outputs": [
    {
     "name": "stdout",
     "output_type": "stream",
     "text": [
      "the car is not in the Luxury_car_sand_their_horsepowers\n"
     ]
    }
   ],
   "source": [
    "new_car={'Bently': 700,\n",
    "         'Lamboghini': 950,\n",
    "         'Ferarri': 800,\n",
    "         'Mesaratti': 850\n",
    "        }\n",
    "if 'Lamboghini' not in luxury_cars_and_their_horsepowers:\n",
    "    print(\"the car is not in the Luxury_car_sand_their_horsepowers\")"
   ]
  },
  {
   "cell_type": "code",
   "execution_count": 28,
   "id": "a54d922c",
   "metadata": {},
   "outputs": [
    {
     "name": "stdout",
     "output_type": "stream",
     "text": [
      "You did great at Maths! 90\n"
     ]
    }
   ],
   "source": [
    "math_score = 90\n",
    "\n",
    "if math_score < 20:\n",
    "    print(\"i'm afraid, that is not a great score \", math_score)\n",
    "    \n",
    "elif math_score < 50:\n",
    "    print('Oh you can definitely do better than this ', math_score)\n",
    "    \n",
    "elif math_score < 80:\n",
    "    print(\"Ahh you're close to the Highestgrade you can get\", math_score)\n",
    "\n",
    "elif math_score <100:\n",
    "    print(\"You did great at Maths!\", math_score)"
   ]
  },
  {
   "cell_type": "code",
   "execution_count": null,
   "id": "203a67f1",
   "metadata": {},
   "outputs": [],
   "source": []
  }
 ],
 "metadata": {
  "kernelspec": {
   "display_name": "Python 3",
   "language": "python",
   "name": "python3"
  },
  "language_info": {
   "codemirror_mode": {
    "name": "ipython",
    "version": 3
   },
   "file_extension": ".py",
   "mimetype": "text/x-python",
   "name": "python",
   "nbconvert_exporter": "python",
   "pygments_lexer": "ipython3",
   "version": "3.8.8"
  }
 },
 "nbformat": 4,
 "nbformat_minor": 5
}
