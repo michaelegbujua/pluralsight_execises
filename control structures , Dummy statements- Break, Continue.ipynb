{
 "cells": [
  {
   "cell_type": "code",
   "execution_count": 1,
   "id": "9f2db900",
   "metadata": {},
   "outputs": [],
   "source": [
    "classic_cars = [\"Pierce Arrow\", \"Oldsnoble\", \"mustang\", \"corvette\", \"Aifa Romeo spider\"]"
   ]
  },
  {
   "cell_type": "code",
   "execution_count": 3,
   "id": "ea6a6fbb",
   "metadata": {},
   "outputs": [
    {
     "name": "stdout",
     "output_type": "stream",
     "text": [
      "Pierce Arrow\n"
     ]
    }
   ],
   "source": [
    "for cars in classic_cars:\n",
    "    print(cars)\n",
    "    break"
   ]
  },
  {
   "cell_type": "markdown",
   "id": "a9a6b662",
   "metadata": {},
   "source": [
    "the break keyword makes the program come out of the loop"
   ]
  },
  {
   "cell_type": "code",
   "execution_count": 5,
   "id": "8c443a1e",
   "metadata": {},
   "outputs": [
    {
     "data": {
      "text/plain": [
       "'Pierce Arrow'"
      ]
     },
     "execution_count": 5,
     "metadata": {},
     "output_type": "execute_result"
    }
   ],
   "source": [
    "cars"
   ]
  },
  {
   "cell_type": "code",
   "execution_count": 6,
   "id": "5e927dd9",
   "metadata": {},
   "outputs": [
    {
     "name": "stdout",
     "output_type": "stream",
     "text": [
      "Pierce Arrow\n",
      "Oldsnoble\n",
      "mustang\n",
      "corvette\n",
      "This is my favorite! corvette\n"
     ]
    }
   ],
   "source": [
    " for car in classic_cars:\n",
    "        print(car)\n",
    "        \n",
    "        if car == \"corvette\":\n",
    "            print('This is my favorite!', car)\n",
    "            break\n",
    "        "
   ]
  },
  {
   "cell_type": "code",
   "execution_count": 7,
   "id": "0fac0a1b",
   "metadata": {},
   "outputs": [
    {
     "name": "stdout",
     "output_type": "stream",
     "text": [
      "Checking.... 100\n",
      "Not a multiple of 3:-(\n",
      "Checking.... 34\n",
      "Not a multiple of 3:-(\n",
      "Checking.... 67\n",
      "Not a multiple of 3:-(\n",
      "Checking.... 89\n",
      "Not a multiple of 3:-(\n",
      "Checking.... 78\n",
      "Multiple of 3 - yipee!\n"
     ]
    }
   ],
   "source": [
    "number_list = [100, 34, 67, 89, 78, 21, 36]\n",
    "for num in number_list:\n",
    "    print(\"Checking....\", num)\n",
    "    if num % 3 == 0:\n",
    "        print('Multiple of 3 - yipee!')\n",
    "        break\n",
    "    print('Not a multiple of 3:-(')"
   ]
  },
  {
   "cell_type": "markdown",
   "id": "ce2ac1cb",
   "metadata": {},
   "source": [
    "# CONTINUE keyword"
   ]
  },
  {
   "cell_type": "code",
   "execution_count": 8,
   "id": "65fbcc41",
   "metadata": {},
   "outputs": [
    {
     "name": "stdout",
     "output_type": "stream",
     "text": [
      "Pierce Arrow\n",
      "Oldsnoble\n",
      "corvette\n",
      "Aifa Romeo spider\n"
     ]
    }
   ],
   "source": [
    "for car in classic_cars:\n",
    "    if car == \"mustang\":\n",
    "        continue\n",
    "    \n",
    "    print(car)"
   ]
  },
  {
   "cell_type": "code",
   "execution_count": 9,
   "id": "8ff8dfa6",
   "metadata": {},
   "outputs": [
    {
     "name": "stdout",
     "output_type": "stream",
     "text": [
      "1\n",
      "3\n",
      "5\n",
      "7\n",
      "9\n"
     ]
    }
   ],
   "source": [
    "for i in range(10):\n",
    "    if i % 2 == 0:\n",
    "        continue\n",
    "    print(i)"
   ]
  },
  {
   "cell_type": "code",
   "execution_count": 13,
   "id": "cff4c7a3",
   "metadata": {},
   "outputs": [
    {
     "name": "stdout",
     "output_type": "stream",
     "text": [
      "10\n",
      "11\n",
      "12\n",
      "17\n",
      "18\n",
      "19\n",
      "20\n"
     ]
    }
   ],
   "source": [
    "for i in range(10, 21):\n",
    "    if i >= 13 and i <= 16:\n",
    "        continue\n",
    "    else:print(i)"
   ]
  },
  {
   "cell_type": "code",
   "execution_count": 20,
   "id": "c5db1bab",
   "metadata": {},
   "outputs": [
    {
     "name": "stdout",
     "output_type": "stream",
     "text": [
      "10\n",
      "11\n",
      "12\n"
     ]
    }
   ],
   "source": [
    "for i in range(10, 21):\n",
    "    if i >= 13 and i <= 16 :\n",
    "        break\n",
    "    else:\n",
    "        print(i)"
   ]
  },
  {
   "cell_type": "markdown",
   "id": "c76a0627",
   "metadata": {},
   "source": [
    "the differecne between the Break and Continue statement. the break will bring the program to a sudden (untimely) end, but the Continue statement will skip an action based on the instruction and continue with other parts of the program running"
   ]
  },
  {
   "cell_type": "markdown",
   "id": "5e34327d",
   "metadata": {},
   "source": [
    "# PASS keyword"
   ]
  },
  {
   "cell_type": "code",
   "execution_count": 29,
   "id": "1f365a27",
   "metadata": {},
   "outputs": [],
   "source": [
    "for i in range(10, 21):\n",
    "    pass"
   ]
  },
  {
   "cell_type": "markdown",
   "id": "7b2dc633",
   "metadata": {},
   "source": [
    "the pass is a dummy keyword basically makes the program do nothing"
   ]
  },
  {
   "cell_type": "code",
   "execution_count": 30,
   "id": "877123dd",
   "metadata": {},
   "outputs": [
    {
     "name": "stdout",
     "output_type": "stream",
     "text": [
      "10\n",
      "11\n",
      "12\n",
      "17\n",
      "18\n",
      "19\n",
      "20\n"
     ]
    }
   ],
   "source": [
    "for i in range(10, 21):\n",
    "    if i >= 13 and i <= 16:\n",
    "        pass\n",
    "    else:\n",
    "        print(i)"
   ]
  },
  {
   "cell_type": "code",
   "execution_count": null,
   "id": "93c356d5",
   "metadata": {},
   "outputs": [],
   "source": []
  }
 ],
 "metadata": {
  "kernelspec": {
   "display_name": "Python 3",
   "language": "python",
   "name": "python3"
  },
  "language_info": {
   "codemirror_mode": {
    "name": "ipython",
    "version": 3
   },
   "file_extension": ".py",
   "mimetype": "text/x-python",
   "name": "python",
   "nbconvert_exporter": "python",
   "pygments_lexer": "ipython3",
   "version": "3.8.8"
  }
 },
 "nbformat": 4,
 "nbformat_minor": 5
}
