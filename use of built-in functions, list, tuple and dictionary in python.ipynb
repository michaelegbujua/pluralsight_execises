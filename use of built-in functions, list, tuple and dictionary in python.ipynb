{
 "cells": [
  {
   "cell_type": "markdown",
   "id": "0b1f5526",
   "metadata": {},
   "source": [
    "# PRINT FUNCTION"
   ]
  },
  {
   "cell_type": "markdown",
   "id": "7dfdc525",
   "metadata": {},
   "source": [
    "##print function"
   ]
  },
  {
   "cell_type": "code",
   "execution_count": 1,
   "id": "e8375b77",
   "metadata": {},
   "outputs": [
    {
     "name": "stdout",
     "output_type": "stream",
     "text": [
      "Hello John, How are you?\n"
     ]
    }
   ],
   "source": [
    "print('Hello John, How are you?')"
   ]
  },
  {
   "cell_type": "code",
   "execution_count": 2,
   "id": "c3f76b19",
   "metadata": {},
   "outputs": [
    {
     "name": "stdout",
     "output_type": "stream",
     "text": [
      "2345\n"
     ]
    }
   ],
   "source": [
    "print(2345)"
   ]
  },
  {
   "cell_type": "code",
   "execution_count": 9,
   "id": "2ec5777b",
   "metadata": {},
   "outputs": [
    {
     "name": "stdout",
     "output_type": "stream",
     "text": [
      "Hello John\n",
      "How are you?\n"
     ]
    }
   ],
   "source": [
    "print(\"Hello John\", \"How are you?\", sep ='\\n')  #seperates the two string into 2 lines"
   ]
  },
  {
   "cell_type": "code",
   "execution_count": 8,
   "id": "3248fc14",
   "metadata": {},
   "outputs": [
    {
     "name": "stdout",
     "output_type": "stream",
     "text": [
      "Hello John | How are you?\n"
     ]
    }
   ],
   "source": [
    "print(\"Hello John \", \" How are you?\", sep ='|')    #sep function used for seperating"
   ]
  },
  {
   "cell_type": "code",
   "execution_count": 11,
   "id": "5b891e90",
   "metadata": {},
   "outputs": [
    {
     "name": "stdout",
     "output_type": "stream",
     "text": [
      "Hello John How are you?**"
     ]
    }
   ],
   "source": [
    "print(\"Hello John\", \"How are you?\", end = '**')   #affixes the double asterics at the end of the string"
   ]
  },
  {
   "cell_type": "code",
   "execution_count": 12,
   "id": "9437ac04",
   "metadata": {},
   "outputs": [
    {
     "data": {
      "text/plain": [
       "4"
      ]
     },
     "execution_count": 12,
     "metadata": {},
     "output_type": "execute_result"
    }
   ],
   "source": [
    "len('abcd')     #the len functions determins the length of any string"
   ]
  },
  {
   "cell_type": "code",
   "execution_count": 15,
   "id": "54116d8c",
   "metadata": {},
   "outputs": [
    {
     "data": {
      "text/plain": [
       "11"
      ]
     },
     "execution_count": 15,
     "metadata": {},
     "output_type": "execute_result"
    }
   ],
   "source": [
    "statement =\"Hail Ceasar\"\n",
    "len(statement)          #the length of the string including the empty space as counted"
   ]
  },
  {
   "cell_type": "code",
   "execution_count": 17,
   "id": "a7750632",
   "metadata": {},
   "outputs": [
    {
     "data": {
      "text/plain": [
       "26"
      ]
     },
     "execution_count": 17,
     "metadata": {},
     "output_type": "execute_result"
    }
   ],
   "source": [
    "len('abcdefghijklmnopqrstuvwxyz')"
   ]
  },
  {
   "cell_type": "code",
   "execution_count": 20,
   "id": "0e480b83",
   "metadata": {},
   "outputs": [
    {
     "ename": "TypeError",
     "evalue": "object of type 'int' has no len()",
     "output_type": "error",
     "traceback": [
      "\u001b[1;31m---------------------------------------------------------------------------\u001b[0m",
      "\u001b[1;31mTypeError\u001b[0m                                 Traceback (most recent call last)",
      "\u001b[1;32m<ipython-input-20-955186972373>\u001b[0m in \u001b[0;36m<module>\u001b[1;34m\u001b[0m\n\u001b[1;32m----> 1\u001b[1;33m \u001b[0mlen\u001b[0m\u001b[1;33m(\u001b[0m\u001b[1;36m1234567890\u001b[0m\u001b[1;33m)\u001b[0m \u001b[1;31m#the len function is not suitable for numbers, they must be strings\u001b[0m\u001b[1;33m\u001b[0m\u001b[1;33m\u001b[0m\u001b[0m\n\u001b[0m",
      "\u001b[1;31mTypeError\u001b[0m: object of type 'int' has no len()"
     ]
    }
   ],
   "source": [
    "len(1234567890) #the len function is not suitable for numbers, they must be strings"
   ]
  },
  {
   "cell_type": "code",
   "execution_count": 21,
   "id": "4fb8a1b2",
   "metadata": {},
   "outputs": [
    {
     "data": {
      "text/plain": [
       "10"
      ]
     },
     "execution_count": 21,
     "metadata": {},
     "output_type": "execute_result"
    }
   ],
   "source": [
    "len('1234567890')"
   ]
  },
  {
   "cell_type": "markdown",
   "id": "2645d3f1",
   "metadata": {},
   "source": [
    "# MIN AND MAX FUNCTION"
   ]
  },
  {
   "cell_type": "markdown",
   "id": "ecc4992e",
   "metadata": {},
   "source": [
    "#min  and max function:\n",
    "the min built-in function helps to find the minimum or the maximum value for a collection of numbers"
   ]
  },
  {
   "cell_type": "code",
   "execution_count": 22,
   "id": "c7c3efef",
   "metadata": {},
   "outputs": [
    {
     "data": {
      "text/plain": [
       "-5"
      ]
     },
     "execution_count": 22,
     "metadata": {},
     "output_type": "execute_result"
    }
   ],
   "source": [
    "min(1, 3, 2.4, 5, 3, 6.54, 85, -5 )"
   ]
  },
  {
   "cell_type": "code",
   "execution_count": 23,
   "id": "370adaa9",
   "metadata": {},
   "outputs": [
    {
     "data": {
      "text/plain": [
       "51752.55"
      ]
     },
     "execution_count": 23,
     "metadata": {},
     "output_type": "execute_result"
    }
   ],
   "source": [
    "max(1, 5, 1, 23, 51752.55, 17, 1, 5, 15, 2, 155)"
   ]
  },
  {
   "cell_type": "code",
   "execution_count": 29,
   "id": "6f8cb859",
   "metadata": {},
   "outputs": [
    {
     "data": {
      "text/plain": [
       "51752.55"
      ]
     },
     "execution_count": 29,
     "metadata": {},
     "output_type": "execute_result"
    }
   ],
   "source": [
    "age =[1, 5, 1, 23, 51752.55, 17, 1, 5, 15, 2, -155]\n",
    "max(age)"
   ]
  },
  {
   "cell_type": "code",
   "execution_count": 30,
   "id": "0cc4b0ba",
   "metadata": {},
   "outputs": [
    {
     "data": {
      "text/plain": [
       "-155"
      ]
     },
     "execution_count": 30,
     "metadata": {},
     "output_type": "execute_result"
    }
   ],
   "source": [
    "min(age)"
   ]
  },
  {
   "cell_type": "markdown",
   "id": "c6c16ff9",
   "metadata": {},
   "source": [
    "# ABSOLUTE FUNCTION"
   ]
  },
  {
   "cell_type": "markdown",
   "id": "16868cab",
   "metadata": {},
   "source": [
    "##absolute value function abs"
   ]
  },
  {
   "cell_type": "code",
   "execution_count": 32,
   "id": "42d00bed",
   "metadata": {},
   "outputs": [
    {
     "data": {
      "text/plain": [
       "100"
      ]
     },
     "execution_count": 32,
     "metadata": {},
     "output_type": "execute_result"
    }
   ],
   "source": [
    "abs(-100)"
   ]
  },
  {
   "cell_type": "code",
   "execution_count": 33,
   "id": "1f49faf7",
   "metadata": {},
   "outputs": [
    {
     "data": {
      "text/plain": [
       "65"
      ]
     },
     "execution_count": 33,
     "metadata": {},
     "output_type": "execute_result"
    }
   ],
   "source": [
    "abs(65)"
   ]
  },
  {
   "cell_type": "code",
   "execution_count": 35,
   "id": "4d6b664b",
   "metadata": {},
   "outputs": [
    {
     "data": {
      "text/plain": [
       "45"
      ]
     },
     "execution_count": 35,
     "metadata": {},
     "output_type": "execute_result"
    }
   ],
   "source": [
    "variance = -45\n",
    "abs(variance)"
   ]
  },
  {
   "cell_type": "code",
   "execution_count": 37,
   "id": "a0320f94",
   "metadata": {},
   "outputs": [
    {
     "name": "stdout",
     "output_type": "stream",
     "text": [
      "-276\n",
      "276\n"
     ]
    }
   ],
   "source": [
    "core_val = 22\n",
    "margin = -298\n",
    "prime_index = core_val + margin\n",
    "\n",
    "print(prime_index)\n",
    "print(abs(prime_index))\n"
   ]
  },
  {
   "cell_type": "markdown",
   "id": "e3b04530",
   "metadata": {},
   "source": [
    "# SORTED FUNCTIONS"
   ]
  },
  {
   "cell_type": "markdown",
   "id": "c1d824f0",
   "metadata": {},
   "source": [
    "##sorted function: returns the character in the string singly in a list"
   ]
  },
  {
   "cell_type": "code",
   "execution_count": 41,
   "id": "b74700be",
   "metadata": {},
   "outputs": [
    {
     "data": {
      "text/plain": [
       "['e', 'h', 'l', 'l', 'o']"
      ]
     },
     "execution_count": 41,
     "metadata": {},
     "output_type": "execute_result"
    }
   ],
   "source": [
    "sorted(\"hello\")  #they're sorted in alphabetical order"
   ]
  },
  {
   "cell_type": "code",
   "execution_count": 40,
   "id": "730aa0fe",
   "metadata": {},
   "outputs": [
    {
     "data": {
      "text/plain": [
       "['h', 'n', 'o', 'p', 't', 'y']"
      ]
     },
     "execution_count": 40,
     "metadata": {},
     "output_type": "execute_result"
    }
   ],
   "source": [
    "sorted(\"python\")"
   ]
  },
  {
   "cell_type": "code",
   "execution_count": 42,
   "id": "7ea77776",
   "metadata": {},
   "outputs": [
    {
     "data": {
      "text/plain": [
       "['a', 'b', 'c', 'd', 'e', 'f', 'g', 'h']"
      ]
     },
     "execution_count": 42,
     "metadata": {},
     "output_type": "execute_result"
    }
   ],
   "source": [
    "sorted('abcdefgh', reverse = False)  #ascending order"
   ]
  },
  {
   "cell_type": "code",
   "execution_count": 43,
   "id": "417abf0b",
   "metadata": {},
   "outputs": [
    {
     "data": {
      "text/plain": [
       "['h', 'g', 'f', 'e', 'd', 'c', 'b', 'a']"
      ]
     },
     "execution_count": 43,
     "metadata": {},
     "output_type": "execute_result"
    }
   ],
   "source": [
    "sorted('abcdefgh', reverse = True)   #descending order"
   ]
  },
  {
   "cell_type": "code",
   "execution_count": 46,
   "id": "a0cec162",
   "metadata": {},
   "outputs": [
    {
     "data": {
      "text/plain": [
       "'hello john, how are you?'"
      ]
     },
     "execution_count": 46,
     "metadata": {},
     "output_type": "execute_result"
    }
   ],
   "source": [
    "string_var =\"HELLO JOHN, HOW ARE YOU?\"\n",
    "string_var.lower()       #the lower case of the string is returned"
   ]
  },
  {
   "cell_type": "code",
   "execution_count": 47,
   "id": "9dfea0a5",
   "metadata": {},
   "outputs": [],
   "source": [
    "lowercase_var = string_var.lower()"
   ]
  },
  {
   "cell_type": "code",
   "execution_count": 48,
   "id": "f0061fc1",
   "metadata": {},
   "outputs": [
    {
     "data": {
      "text/plain": [
       "'HELLO JOHN, HOW ARE YOU?'"
      ]
     },
     "execution_count": 48,
     "metadata": {},
     "output_type": "execute_result"
    }
   ],
   "source": [
    "lowercase_var.upper()"
   ]
  },
  {
   "cell_type": "code",
   "execution_count": 51,
   "id": "ca32962d",
   "metadata": {},
   "outputs": [
    {
     "data": {
      "text/plain": [
       "True"
      ]
     },
     "execution_count": 51,
     "metadata": {},
     "output_type": "execute_result"
    }
   ],
   "source": [
    "lowercase_var ==     string_var.lower()"
   ]
  },
  {
   "cell_type": "code",
   "execution_count": 53,
   "id": "4f7a03be",
   "metadata": {},
   "outputs": [
    {
     "data": {
      "text/plain": [
       "'Hello john, how are you?'"
      ]
     },
     "execution_count": 53,
     "metadata": {},
     "output_type": "execute_result"
    }
   ],
   "source": [
    "capitalized_string = lowercase_var.capitalize()\n",
    "\n",
    "capitalized_string                 #returns a capitalized case of the statement"
   ]
  },
  {
   "cell_type": "code",
   "execution_count": 54,
   "id": "08c98466",
   "metadata": {},
   "outputs": [
    {
     "name": "stdout",
     "output_type": "stream",
     "text": [
      "Hello John, How are you?\n"
     ]
    }
   ],
   "source": [
    "my_print = print(\"Hello John, How are you?\")\n",
    "\n",
    "my_print"
   ]
  },
  {
   "cell_type": "code",
   "execution_count": 55,
   "id": "08b30d4e",
   "metadata": {},
   "outputs": [
    {
     "name": "stdout",
     "output_type": "stream",
     "text": [
      "None\n"
     ]
    }
   ],
   "source": [
    "print(my_print)"
   ]
  },
  {
   "cell_type": "code",
   "execution_count": 56,
   "id": "fb54f133",
   "metadata": {},
   "outputs": [
    {
     "data": {
      "text/plain": [
       "NoneType"
      ]
     },
     "execution_count": 56,
     "metadata": {},
     "output_type": "execute_result"
    }
   ],
   "source": [
    "type(my_print)"
   ]
  },
  {
   "cell_type": "code",
   "execution_count": 57,
   "id": "1b529b2e",
   "metadata": {},
   "outputs": [
    {
     "name": "stdout",
     "output_type": "stream",
     "text": [
      "5\n"
     ]
    }
   ],
   "source": [
    "length = len('Hello')\n",
    "print(length)"
   ]
  },
  {
   "cell_type": "code",
   "execution_count": 58,
   "id": "2090601c",
   "metadata": {},
   "outputs": [
    {
     "data": {
      "text/plain": [
       "int"
      ]
     },
     "execution_count": 58,
     "metadata": {},
     "output_type": "execute_result"
    }
   ],
   "source": [
    "type(length)"
   ]
  },
  {
   "cell_type": "code",
   "execution_count": 59,
   "id": "a85598f1",
   "metadata": {},
   "outputs": [
    {
     "name": "stdout",
     "output_type": "stream",
     "text": [
      "12345\n"
     ]
    }
   ],
   "source": [
    "result =abs(-12345)\n",
    "print(result)"
   ]
  },
  {
   "cell_type": "code",
   "execution_count": 60,
   "id": "f1de7919",
   "metadata": {},
   "outputs": [
    {
     "data": {
      "text/plain": [
       "int"
      ]
     },
     "execution_count": 60,
     "metadata": {},
     "output_type": "execute_result"
    }
   ],
   "source": [
    "type(result)"
   ]
  },
  {
   "cell_type": "code",
   "execution_count": 61,
   "id": "f79ec452",
   "metadata": {},
   "outputs": [
    {
     "name": "stdout",
     "output_type": "stream",
     "text": [
      "5948661\n"
     ]
    }
   ],
   "source": [
    "max_value = max(1, 2, 55364, 43, 2, 5, 5948661, 78664, 64)\n",
    "print(max_value)"
   ]
  },
  {
   "cell_type": "code",
   "execution_count": 62,
   "id": "c46a66e6",
   "metadata": {},
   "outputs": [
    {
     "data": {
      "text/plain": [
       "int"
      ]
     },
     "execution_count": 62,
     "metadata": {},
     "output_type": "execute_result"
    }
   ],
   "source": [
    "type(max_value)"
   ]
  },
  {
   "cell_type": "code",
   "execution_count": 67,
   "id": "2393bb9a",
   "metadata": {},
   "outputs": [
    {
     "name": "stdout",
     "output_type": "stream",
     "text": [
      "['p', 'p', 'o', 'l', 'i', 'a']\n"
     ]
    }
   ],
   "source": [
    "sorted_characters = sorted('papilo', reverse = True )\n",
    "print(sorted_characters)"
   ]
  },
  {
   "cell_type": "code",
   "execution_count": 64,
   "id": "a5330da2",
   "metadata": {},
   "outputs": [
    {
     "data": {
      "text/plain": [
       "list"
      ]
     },
     "execution_count": 64,
     "metadata": {},
     "output_type": "execute_result"
    }
   ],
   "source": [
    "type(sorted_characters)"
   ]
  },
  {
   "cell_type": "code",
   "execution_count": 73,
   "id": "62a2c819",
   "metadata": {},
   "outputs": [
    {
     "name": "stdout",
     "output_type": "stream",
     "text": [
      "6\n"
     ]
    }
   ],
   "source": [
    " print(len(sorted_characters))        #putting functions in mesh"
   ]
  },
  {
   "cell_type": "code",
   "execution_count": 72,
   "id": "4a5de61d",
   "metadata": {},
   "outputs": [
    {
     "data": {
      "text/plain": [
       "1"
      ]
     },
     "execution_count": 72,
     "metadata": {},
     "output_type": "execute_result"
    }
   ],
   "source": [
    "abs(max(-1,-2, -4, -7))"
   ]
  },
  {
   "cell_type": "code",
   "execution_count": 74,
   "id": "dbb83797",
   "metadata": {},
   "outputs": [
    {
     "name": "stdout",
     "output_type": "stream",
     "text": [
      "8\n"
     ]
    }
   ],
   "source": [
    "print(round(7.54))"
   ]
  },
  {
   "cell_type": "markdown",
   "id": "83c60346",
   "metadata": {},
   "source": [
    "# WORKING WITH LISTS IN PYTHON"
   ]
  },
  {
   "cell_type": "markdown",
   "id": "7d836531",
   "metadata": {},
   "source": [
    "##A List in Python is used to store an order sequence of elements, its a special data type in python"
   ]
  },
  {
   "cell_type": "code",
   "execution_count": 76,
   "id": "ccd4afc3",
   "metadata": {},
   "outputs": [
    {
     "data": {
      "text/plain": [
       "list"
      ]
     },
     "execution_count": 76,
     "metadata": {},
     "output_type": "execute_result"
    }
   ],
   "source": [
    "empty_list = []\n",
    "type(empty_list)"
   ]
  },
  {
   "cell_type": "code",
   "execution_count": 77,
   "id": "aba2988d",
   "metadata": {},
   "outputs": [
    {
     "name": "stdout",
     "output_type": "stream",
     "text": [
      "[]\n"
     ]
    }
   ],
   "source": [
    "print(empty_list)"
   ]
  },
  {
   "cell_type": "code",
   "execution_count": 78,
   "id": "66184219",
   "metadata": {},
   "outputs": [
    {
     "data": {
      "text/plain": [
       "[1, 2, 3, 4, 5]"
      ]
     },
     "execution_count": 78,
     "metadata": {},
     "output_type": "execute_result"
    }
   ],
   "source": [
    "int_list = [1, 2, 3, 4, 5]   #list can hold integer \n",
    "\n",
    "int_list"
   ]
  },
  {
   "cell_type": "code",
   "execution_count": 80,
   "id": "c201678e",
   "metadata": {},
   "outputs": [
    {
     "data": {
      "text/plain": [
       "['Hello', 'python', 'world']"
      ]
     },
     "execution_count": 80,
     "metadata": {},
     "output_type": "execute_result"
    }
   ],
   "source": [
    "string_list = [\"Hello\", \"python\", \"world\"]  #list can hold strings\n",
    "\n",
    "string_list"
   ]
  },
  {
   "cell_type": "code",
   "execution_count": 82,
   "id": "75bc8243",
   "metadata": {},
   "outputs": [
    {
     "data": {
      "text/plain": [
       "[5, 'Hello', True, 2.555]"
      ]
     },
     "execution_count": 82,
     "metadata": {},
     "output_type": "execute_result"
    }
   ],
   "source": [
    "mixed_list = [5, \"Hello\", True, 2.555] # a list can contain a combination of element with diff data types\n",
    "mixed_list"
   ]
  },
  {
   "cell_type": "code",
   "execution_count": 87,
   "id": "4331b921",
   "metadata": {},
   "outputs": [
    {
     "name": "stdout",
     "output_type": "stream",
     "text": [
      "Airbus AJ80 Airbus AJ50\n"
     ]
    }
   ],
   "source": [
    "airbus_planes = [\"Airbus AJ80\", \"Airbus AJ50\", \"Prototype Airbus A390\"]\n",
    "\n",
    "print(airbus_planes[0],airbus_planes[1]) #indexing is use to print elements of a list"
   ]
  },
  {
   "cell_type": "code",
   "execution_count": 88,
   "id": "08523134",
   "metadata": {},
   "outputs": [
    {
     "data": {
      "text/plain": [
       "'Prototype Airbus A390'"
      ]
     },
     "execution_count": 88,
     "metadata": {},
     "output_type": "execute_result"
    }
   ],
   "source": [
    "airbus_planes[-1]  #prints the last element in the list"
   ]
  },
  {
   "cell_type": "code",
   "execution_count": 113,
   "id": "f44fc158",
   "metadata": {},
   "outputs": [
    {
     "data": {
      "text/plain": [
       "'boeing 737 original'"
      ]
     },
     "execution_count": 113,
     "metadata": {},
     "output_type": "execute_result"
    }
   ],
   "source": [
    "boeing_planes = ['boeing 707', 'boeing 717', 'boeing 727', 'boeing 737 original']\n",
    "\n",
    "last_index = len(boeing_planes) - 1\n",
    "\n",
    "boeing_planes[last_index]"
   ]
  },
  {
   "cell_type": "code",
   "execution_count": 93,
   "id": "ad21b1ca",
   "metadata": {},
   "outputs": [
    {
     "data": {
      "text/plain": [
       "'boeing 737 original'"
      ]
     },
     "execution_count": 93,
     "metadata": {},
     "output_type": "execute_result"
    }
   ],
   "source": [
    "test_last = boeing_planes[-1]\n",
    "test_last"
   ]
  },
  {
   "cell_type": "code",
   "execution_count": 114,
   "id": "000a70c3",
   "metadata": {},
   "outputs": [
    {
     "data": {
      "text/plain": [
       "False"
      ]
     },
     "execution_count": 114,
     "metadata": {},
     "output_type": "execute_result"
    }
   ],
   "source": [
    "last_index == test_last        #they're not equivalent"
   ]
  },
  {
   "cell_type": "code",
   "execution_count": 97,
   "id": "c5a13c2a",
   "metadata": {},
   "outputs": [
    {
     "data": {
      "text/plain": [
       "True"
      ]
     },
     "execution_count": 97,
     "metadata": {},
     "output_type": "execute_result"
    }
   ],
   "source": [
    "boeing_planes[last_index] == test_last   #they're equivalent"
   ]
  },
  {
   "cell_type": "code",
   "execution_count": 115,
   "id": "f9a4af23",
   "metadata": {},
   "outputs": [
    {
     "data": {
      "text/plain": [
       "'boeing 737 original'"
      ]
     },
     "execution_count": 115,
     "metadata": {},
     "output_type": "execute_result"
    }
   ],
   "source": [
    "test_last     #string output"
   ]
  },
  {
   "cell_type": "code",
   "execution_count": 99,
   "id": "a5acb346",
   "metadata": {},
   "outputs": [
    {
     "data": {
      "text/plain": [
       "3"
      ]
     },
     "execution_count": 99,
     "metadata": {},
     "output_type": "execute_result"
    }
   ],
   "source": [
    "last_index #int output"
   ]
  },
  {
   "cell_type": "code",
   "execution_count": 100,
   "id": "5e53099d",
   "metadata": {},
   "outputs": [
    {
     "data": {
      "text/plain": [
       "'boeing 727'"
      ]
     },
     "execution_count": 100,
     "metadata": {},
     "output_type": "execute_result"
    }
   ],
   "source": [
    "boeing_planes[-2]     #displays 2nd to the last element"
   ]
  },
  {
   "cell_type": "markdown",
   "id": "49cba2b3",
   "metadata": {},
   "source": [
    "# list Slicing Operation and List Function"
   ]
  },
  {
   "cell_type": "code",
   "execution_count": 116,
   "id": "8bc7f83d",
   "metadata": {},
   "outputs": [
    {
     "data": {
      "text/plain": [
       "['boeing 707', 'boeing 717', 'boeing 727']"
      ]
     },
     "execution_count": 116,
     "metadata": {},
     "output_type": "execute_result"
    }
   ],
   "source": [
    "boeing_planes[0:3]    #all element from index 0 up to but not including index 3"
   ]
  },
  {
   "cell_type": "code",
   "execution_count": 103,
   "id": "1973f13a",
   "metadata": {},
   "outputs": [
    {
     "data": {
      "text/plain": [
       "['Airbus AJ80', 'Airbus AJ50']"
      ]
     },
     "execution_count": 103,
     "metadata": {},
     "output_type": "execute_result"
    }
   ],
   "source": [
    "airbus_planes[0:2]"
   ]
  },
  {
   "cell_type": "code",
   "execution_count": 104,
   "id": "bad14786",
   "metadata": {},
   "outputs": [
    {
     "data": {
      "text/plain": [
       "['boeing 727', 'boeing 737 original']"
      ]
     },
     "execution_count": 104,
     "metadata": {},
     "output_type": "execute_result"
    }
   ],
   "source": [
    "boeing_planes[2:4]"
   ]
  },
  {
   "cell_type": "code",
   "execution_count": 117,
   "id": "b717d3e3",
   "metadata": {},
   "outputs": [
    {
     "data": {
      "text/plain": [
       "['boeing 707', 'boeing 717', 'boeing 727']"
      ]
     },
     "execution_count": 117,
     "metadata": {},
     "output_type": "execute_result"
    }
   ],
   "source": [
    "boeing_planes[0:-1]"
   ]
  },
  {
   "cell_type": "code",
   "execution_count": 109,
   "id": "4c74ce07",
   "metadata": {},
   "outputs": [
    {
     "data": {
      "text/plain": [
       "True"
      ]
     },
     "execution_count": 109,
     "metadata": {},
     "output_type": "execute_result"
    }
   ],
   "source": [
    "boeing_planes[0:3] == boeing_planes[0:-1] #equivalent slice"
   ]
  },
  {
   "cell_type": "markdown",
   "id": "73d82194",
   "metadata": {},
   "source": [
    "#the slice function does not include the element of the last index when outputing\n"
   ]
  },
  {
   "cell_type": "markdown",
   "id": "5cdc52de",
   "metadata": {},
   "source": [
    "# Append Function"
   ]
  },
  {
   "cell_type": "markdown",
   "id": "95fc916c",
   "metadata": {},
   "source": [
    "#the Append function is use to add elements in an already existing list"
   ]
  },
  {
   "cell_type": "code",
   "execution_count": 118,
   "id": "d3c0921b",
   "metadata": {},
   "outputs": [
    {
     "data": {
      "text/plain": [
       "['boeing 707', 'boeing 717', 'boeing 727', 'boeing 737 original', 'boeing 747']"
      ]
     },
     "execution_count": 118,
     "metadata": {},
     "output_type": "execute_result"
    }
   ],
   "source": [
    "boeing_planes.append(\"boeing 747\")\n",
    "boeing_planes"
   ]
  },
  {
   "cell_type": "code",
   "execution_count": 121,
   "id": "04150d97",
   "metadata": {},
   "outputs": [
    {
     "data": {
      "text/plain": [
       "['Airbus AJ80',\n",
       " 'Airbus AJ50',\n",
       " 'Prototype Airbus A390',\n",
       " 'airbus AJ92',\n",
       " 'airbus AJ92',\n",
       " 'airbus AJ91']"
      ]
     },
     "execution_count": 121,
     "metadata": {},
     "output_type": "execute_result"
    }
   ],
   "source": [
    "airbus_planes.append(\"airbus AJ91\")\n",
    "airbus_planes"
   ]
  },
  {
   "cell_type": "markdown",
   "id": "82c723c0",
   "metadata": {},
   "source": [
    "# Insert Function"
   ]
  },
  {
   "cell_type": "markdown",
   "id": "75558698",
   "metadata": {},
   "source": [
    "#the Insert fuction will add element in a list at a particular chosen index, Note:  it uses two parameters first for the indexing , 2nd for element."
   ]
  },
  {
   "cell_type": "code",
   "execution_count": 124,
   "id": "acad725a",
   "metadata": {},
   "outputs": [
    {
     "data": {
      "text/plain": [
       "['boeing 707',\n",
       " 'boeing 717',\n",
       " 'boeing 727',\n",
       " 'boeing 737 original',\n",
       " 'boeing 737 Classic',\n",
       " 'boeing 737',\n",
       " 'boeing 737',\n",
       " 'boeing 747']"
      ]
     },
     "execution_count": 124,
     "metadata": {},
     "output_type": "execute_result"
    }
   ],
   "source": [
    "boeing_planes.insert(4, 'boeing 737 Classic')\n",
    "boeing_planes"
   ]
  },
  {
   "cell_type": "code",
   "execution_count": 126,
   "id": "b33cd347",
   "metadata": {},
   "outputs": [
    {
     "data": {
      "text/plain": [
       "['Hurricane', 'Tiger Moth']"
      ]
     },
     "execution_count": 126,
     "metadata": {},
     "output_type": "execute_result"
    }
   ],
   "source": [
    "fighter_jets = [\"Hurricane\", \"Tiger Moth\"]\n",
    "fighter_jets"
   ]
  },
  {
   "cell_type": "code",
   "execution_count": 132,
   "id": "ea850814",
   "metadata": {},
   "outputs": [
    {
     "data": {
      "text/plain": [
       "['Hurricane', 'f-16', 'F-16', 'F-16', 'f-16', 'f-16', 'Tiger Moth']"
      ]
     },
     "execution_count": 132,
     "metadata": {},
     "output_type": "execute_result"
    }
   ],
   "source": [
    "fighter_jets.insert(2, 'F-16')\n",
    "fighter_jets"
   ]
  },
  {
   "cell_type": "markdown",
   "id": "65b35eaa",
   "metadata": {},
   "source": [
    "#Remove function : it takes one argument"
   ]
  },
  {
   "cell_type": "code",
   "execution_count": 134,
   "id": "bd075bec",
   "metadata": {},
   "outputs": [
    {
     "data": {
      "text/plain": [
       "['Hurricane', 'F-16', 'F-16', 'f-16', 'f-16', 'Tiger Moth']"
      ]
     },
     "execution_count": 134,
     "metadata": {},
     "output_type": "execute_result"
    }
   ],
   "source": [
    "fighter_jets.remove('f-16')\n",
    "fighter_jets"
   ]
  },
  {
   "cell_type": "code",
   "execution_count": 138,
   "id": "dc284bf7",
   "metadata": {},
   "outputs": [
    {
     "data": {
      "text/plain": [
       "['Hurricane', 'F-16', 'F-16', 'f-16']"
      ]
     },
     "execution_count": 138,
     "metadata": {},
     "output_type": "execute_result"
    }
   ],
   "source": [
    "fighter_jets.pop()     #this removes the last element in the list\n",
    "fighter_jets"
   ]
  },
  {
   "cell_type": "markdown",
   "id": "0214addb",
   "metadata": {},
   "source": [
    "The Sort Function will arrange the elements in a list in a lexical graphical order"
   ]
  },
  {
   "cell_type": "code",
   "execution_count": 140,
   "id": "9f46d8ce",
   "metadata": {},
   "outputs": [
    {
     "data": {
      "text/plain": [
       "['F-16', 'F-16', 'Hurricane', 'f-16']"
      ]
     },
     "execution_count": 140,
     "metadata": {},
     "output_type": "execute_result"
    }
   ],
   "source": [
    "fighter_jets.sort()\n",
    "fighter_jets"
   ]
  },
  {
   "cell_type": "markdown",
   "id": "ae798657",
   "metadata": {},
   "source": [
    "use the reverse function to keep the element in their original state (position)"
   ]
  },
  {
   "cell_type": "code",
   "execution_count": 142,
   "id": "59df8c77",
   "metadata": {},
   "outputs": [
    {
     "data": {
      "text/plain": [
       "['F-16', 'F-16', 'Hurricane', 'f-16']"
      ]
     },
     "execution_count": 142,
     "metadata": {},
     "output_type": "execute_result"
    }
   ],
   "source": [
    "fighter_jets.reverse()\n",
    "fighter_jets"
   ]
  },
  {
   "cell_type": "markdown",
   "id": "05a8b10c",
   "metadata": {},
   "source": [
    "# CONCATENATING AND COPYING LISTS"
   ]
  },
  {
   "cell_type": "markdown",
   "id": "ae0424f1",
   "metadata": {},
   "source": [
    " ###you can concatenate different lists into a single list using the + operator"
   ]
  },
  {
   "cell_type": "code",
   "execution_count": 143,
   "id": "8d7972ae",
   "metadata": {},
   "outputs": [
    {
     "data": {
      "text/plain": [
       "['Airbus AJ80',\n",
       " 'Airbus AJ50',\n",
       " 'Prototype Airbus A390',\n",
       " 'airbus AJ92',\n",
       " 'airbus AJ92',\n",
       " 'airbus AJ91',\n",
       " 'boeing 707',\n",
       " 'boeing 717',\n",
       " 'boeing 727',\n",
       " 'boeing 737 original',\n",
       " 'boeing 737 Classic',\n",
       " 'boeing 737',\n",
       " 'boeing 737',\n",
       " 'boeing 747',\n",
       " 'F-16',\n",
       " 'F-16',\n",
       " 'Hurricane',\n",
       " 'f-16']"
      ]
     },
     "execution_count": 143,
     "metadata": {},
     "output_type": "execute_result"
    }
   ],
   "source": [
    "all_planes = airbus_planes + boeing_planes + fighter_jets\n",
    "\n",
    "all_planes"
   ]
  },
  {
   "cell_type": "markdown",
   "id": "68a66ed9",
   "metadata": {},
   "source": [
    "##copy function"
   ]
  },
  {
   "cell_type": "markdown",
   "id": "885fc745",
   "metadata": {},
   "source": [
    "#you can make a copy of a list by using the Copy function"
   ]
  },
  {
   "cell_type": "code",
   "execution_count": 144,
   "id": "9b201d42",
   "metadata": {},
   "outputs": [
    {
     "data": {
      "text/plain": [
       "['boeing 707',\n",
       " 'boeing 717',\n",
       " 'boeing 727',\n",
       " 'boeing 737 original',\n",
       " 'boeing 737 Classic',\n",
       " 'boeing 737',\n",
       " 'boeing 737',\n",
       " 'boeing 747']"
      ]
     },
     "execution_count": 144,
     "metadata": {},
     "output_type": "execute_result"
    }
   ],
   "source": [
    "boeing_planes_copy = boeing_planes.copy()\n",
    "boeing_planes_copy"
   ]
  },
  {
   "cell_type": "code",
   "execution_count": 147,
   "id": "e8a4f5bd",
   "metadata": {},
   "outputs": [],
   "source": [
    "#you can delete a variable with the del keyword,"
   ]
  },
  {
   "cell_type": "code",
   "execution_count": 148,
   "id": "cba192d3",
   "metadata": {},
   "outputs": [
    {
     "ename": "NameError",
     "evalue": "name 'boeing_planes' is not defined",
     "output_type": "error",
     "traceback": [
      "\u001b[1;31m---------------------------------------------------------------------------\u001b[0m",
      "\u001b[1;31mNameError\u001b[0m                                 Traceback (most recent call last)",
      "\u001b[1;32m<ipython-input-148-483ae3a015f8>\u001b[0m in \u001b[0;36m<module>\u001b[1;34m\u001b[0m\n\u001b[1;32m----> 1\u001b[1;33m \u001b[1;32mdel\u001b[0m \u001b[0mboeing_planes\u001b[0m\u001b[1;33m\u001b[0m\u001b[1;33m\u001b[0m\u001b[0m\n\u001b[0m\u001b[0;32m      2\u001b[0m \u001b[1;33m\u001b[0m\u001b[0m\n\u001b[0;32m      3\u001b[0m \u001b[0mboeing_planes\u001b[0m\u001b[1;33m\u001b[0m\u001b[1;33m\u001b[0m\u001b[0m\n",
      "\u001b[1;31mNameError\u001b[0m: name 'boeing_planes' is not defined"
     ]
    }
   ],
   "source": [
    "del boeing_planes\n",
    "\n",
    "boeing_planes"
   ]
  },
  {
   "cell_type": "code",
   "execution_count": 149,
   "id": "629f6739",
   "metadata": {},
   "outputs": [
    {
     "data": {
      "text/plain": [
       "['boeing 707',\n",
       " 'boeing 717',\n",
       " 'boeing 727',\n",
       " 'boeing 737 original',\n",
       " 'boeing 737 Classic',\n",
       " 'boeing 737',\n",
       " 'boeing 737',\n",
       " 'boeing 747']"
      ]
     },
     "execution_count": 149,
     "metadata": {},
     "output_type": "execute_result"
    }
   ],
   "source": [
    "boeing_planes_copy"
   ]
  },
  {
   "cell_type": "markdown",
   "id": "b8218d85",
   "metadata": {},
   "source": [
    "# TUPLES : (Working with Tuples)"
   ]
  },
  {
   "cell_type": "markdown",
   "id": "7ef7b6d0",
   "metadata": {},
   "source": [
    "Tuples are also a complex data type in python, tuples are immutable , \n",
    "once they are created they cannot be modified"
   ]
  },
  {
   "cell_type": "code",
   "execution_count": 1,
   "id": "4fb590ab",
   "metadata": {},
   "outputs": [],
   "source": [
    "empty_tuple =()"
   ]
  },
  {
   "cell_type": "code",
   "execution_count": 2,
   "id": "60849952",
   "metadata": {},
   "outputs": [
    {
     "name": "stdout",
     "output_type": "stream",
     "text": [
      "()\n"
     ]
    }
   ],
   "source": [
    "print(empty_tuple)"
   ]
  },
  {
   "cell_type": "code",
   "execution_count": 3,
   "id": "8d624194",
   "metadata": {},
   "outputs": [
    {
     "data": {
      "text/plain": [
       "tuple"
      ]
     },
     "execution_count": 3,
     "metadata": {},
     "output_type": "execute_result"
    }
   ],
   "source": [
    "  type(empty_tuple)"
   ]
  },
  {
   "cell_type": "code",
   "execution_count": 4,
   "id": "5bca39e0",
   "metadata": {},
   "outputs": [
    {
     "data": {
      "text/plain": [
       "tuple"
      ]
     },
     "execution_count": 4,
     "metadata": {},
     "output_type": "execute_result"
    }
   ],
   "source": [
    "childrens_books = ('timy failure', 'Diary of a Wimpy Kid', 'Calvin Hobbes')\n",
    "type(childrens_books)"
   ]
  },
  {
   "cell_type": "markdown",
   "id": "5682c506",
   "metadata": {},
   "source": [
    "#tuples once created cannot be modified or append something to it and whenever you try it throws an error, they're said to be immutable"
   ]
  },
  {
   "cell_type": "code",
   "execution_count": 5,
   "id": "46df01a9",
   "metadata": {},
   "outputs": [
    {
     "ename": "AttributeError",
     "evalue": "'tuple' object has no attribute 'append'",
     "output_type": "error",
     "traceback": [
      "\u001b[1;31m---------------------------------------------------------------------------\u001b[0m",
      "\u001b[1;31mAttributeError\u001b[0m                            Traceback (most recent call last)",
      "\u001b[1;32m<ipython-input-5-bb78bd51602a>\u001b[0m in \u001b[0;36m<module>\u001b[1;34m\u001b[0m\n\u001b[1;32m----> 1\u001b[1;33m \u001b[0mchildrens_books\u001b[0m\u001b[1;33m.\u001b[0m\u001b[0mappend\u001b[0m\u001b[1;33m(\u001b[0m\u001b[1;34m'Spiderman'\u001b[0m\u001b[1;33m)\u001b[0m\u001b[1;33m\u001b[0m\u001b[1;33m\u001b[0m\u001b[0m\n\u001b[0m",
      "\u001b[1;31mAttributeError\u001b[0m: 'tuple' object has no attribute 'append'"
     ]
    }
   ],
   "source": [
    " childrens_books.append('Spiderman')"
   ]
  },
  {
   "cell_type": "code",
   "execution_count": 6,
   "id": "f92e066a",
   "metadata": {},
   "outputs": [
    {
     "data": {
      "text/plain": [
       "('timy failure', 'Diary of a Wimpy Kid', 'Calvin Hobbes')"
      ]
     },
     "execution_count": 6,
     "metadata": {},
     "output_type": "execute_result"
    }
   ],
   "source": [
    "childrens_books"
   ]
  },
  {
   "cell_type": "markdown",
   "id": "83f9c0a9",
   "metadata": {},
   "source": [
    "#slicing Operations are possible when using Tuples just like in lists, and indexing are also used to refer to elements in a tuple.  however, when an index is out of range it throws an error."
   ]
  },
  {
   "cell_type": "code",
   "execution_count": 8,
   "id": "147e6199",
   "metadata": {},
   "outputs": [
    {
     "data": {
      "text/plain": [
       "('timy failure', 'Diary of a Wimpy Kid')"
      ]
     },
     "execution_count": 8,
     "metadata": {},
     "output_type": "execute_result"
    }
   ],
   "source": [
    "childrens_books[0:2]"
   ]
  },
  {
   "cell_type": "code",
   "execution_count": 11,
   "id": "16a8ac6d",
   "metadata": {},
   "outputs": [
    {
     "ename": "TypeError",
     "evalue": "'type' object is not subscriptable",
     "output_type": "error",
     "traceback": [
      "\u001b[1;31m---------------------------------------------------------------------------\u001b[0m",
      "\u001b[1;31mTypeError\u001b[0m                                 Traceback (most recent call last)",
      "\u001b[1;32m<ipython-input-11-e6c9bef407d0>\u001b[0m in \u001b[0;36m<module>\u001b[1;34m\u001b[0m\n\u001b[1;32m----> 1\u001b[1;33m \u001b[0mcharacter_tuple\u001b[0m \u001b[1;33m=\u001b[0m \u001b[0mtuple\u001b[0m\u001b[1;33m[\u001b[0m\u001b[1;34m'bedsheet'\u001b[0m\u001b[1;33m]\u001b[0m\u001b[1;33m\u001b[0m\u001b[1;33m\u001b[0m\u001b[0m\n\u001b[0m\u001b[0;32m      2\u001b[0m \u001b[1;33m\u001b[0m\u001b[0m\n\u001b[0;32m      3\u001b[0m \u001b[0mcharacter_tuple\u001b[0m\u001b[1;33m\u001b[0m\u001b[1;33m\u001b[0m\u001b[0m\n",
      "\u001b[1;31mTypeError\u001b[0m: 'type' object is not subscriptable"
     ]
    }
   ],
   "source": [
    "character_tuple = tuple['bedsheet']\n",
    "\n",
    "character_tuple"
   ]
  },
  {
   "cell_type": "code",
   "execution_count": 14,
   "id": "4433b506",
   "metadata": {},
   "outputs": [
    {
     "data": {
      "text/plain": [
       "['Apple', 'Banana', 'Orange', 'Watermelon']"
      ]
     },
     "execution_count": 14,
     "metadata": {},
     "output_type": "execute_result"
    }
   ],
   "source": [
    "fruits_list = [\"Apple\", \"Banana\", \"Orange\", \"Watermelon\"]\n",
    "fruits_list\n",
    "\n"
   ]
  },
  {
   "cell_type": "code",
   "execution_count": 18,
   "id": "2fd8f858",
   "metadata": {},
   "outputs": [
    {
     "ename": "TypeError",
     "evalue": "'type' object is not subscriptable",
     "output_type": "error",
     "traceback": [
      "\u001b[1;31m---------------------------------------------------------------------------\u001b[0m",
      "\u001b[1;31mTypeError\u001b[0m                                 Traceback (most recent call last)",
      "\u001b[1;32m<ipython-input-18-b9392b452b1d>\u001b[0m in \u001b[0;36m<module>\u001b[1;34m\u001b[0m\n\u001b[1;32m----> 1\u001b[1;33m \u001b[0mfruits_tuple\u001b[0m \u001b[1;33m=\u001b[0m \u001b[0mtuple\u001b[0m\u001b[1;33m[\u001b[0m\u001b[0mfruits_list\u001b[0m\u001b[1;33m]\u001b[0m\u001b[1;33m\u001b[0m\u001b[1;33m\u001b[0m\u001b[0m\n\u001b[0m",
      "\u001b[1;31mTypeError\u001b[0m: 'type' object is not subscriptable"
     ]
    }
   ],
   "source": [
    "fruits_tuple = tuple[fruits_list]"
   ]
  },
  {
   "cell_type": "code",
   "execution_count": 19,
   "id": "ad596573",
   "metadata": {},
   "outputs": [
    {
     "ename": "NameError",
     "evalue": "name 'fruits_tuple' is not defined",
     "output_type": "error",
     "traceback": [
      "\u001b[1;31m---------------------------------------------------------------------------\u001b[0m",
      "\u001b[1;31mNameError\u001b[0m                                 Traceback (most recent call last)",
      "\u001b[1;32m<ipython-input-19-722900382591>\u001b[0m in \u001b[0;36m<module>\u001b[1;34m\u001b[0m\n\u001b[1;32m----> 1\u001b[1;33m \u001b[1;34m\"Apple\"\u001b[0m \u001b[1;32min\u001b[0m \u001b[0mfruits_tuple\u001b[0m\u001b[1;33m\u001b[0m\u001b[1;33m\u001b[0m\u001b[0m\n\u001b[0m",
      "\u001b[1;31mNameError\u001b[0m: name 'fruits_tuple' is not defined"
     ]
    }
   ],
   "source": []
  },
  {
   "cell_type": "markdown",
   "id": "5dc2dce1",
   "metadata": {},
   "source": [
    "# #Dictionaries"
   ]
  },
  {
   "cell_type": "markdown",
   "id": "194465d9",
   "metadata": {},
   "source": [
    "the dictionaries is a complex data type that stores key-value pairs of elements"
   ]
  },
  {
   "cell_type": "code",
   "execution_count": 20,
   "id": "2f2280b8",
   "metadata": {},
   "outputs": [],
   "source": [
    "empty_dict = {}"
   ]
  },
  {
   "cell_type": "code",
   "execution_count": 21,
   "id": "95f470c3",
   "metadata": {},
   "outputs": [
    {
     "name": "stdout",
     "output_type": "stream",
     "text": [
      "{}\n"
     ]
    }
   ],
   "source": [
    "print(empty_dict)"
   ]
  },
  {
   "cell_type": "code",
   "execution_count": 22,
   "id": "bcd2e821",
   "metadata": {},
   "outputs": [
    {
     "data": {
      "text/plain": [
       "dict"
      ]
     },
     "execution_count": 22,
     "metadata": {},
     "output_type": "execute_result"
    }
   ],
   "source": [
    "type(empty_dict)"
   ]
  },
  {
   "cell_type": "code",
   "execution_count": 3,
   "id": "ce997e33",
   "metadata": {},
   "outputs": [],
   "source": [
    "names_and_ages ={\"Suzie\" : 6,\n",
    "                 \"calvin\" : 5,\n",
    "                 \"Hobbes\" : 4 }"
   ]
  },
  {
   "cell_type": "code",
   "execution_count": 5,
   "id": "23b3e67c",
   "metadata": {},
   "outputs": [
    {
     "data": {
      "text/plain": [
       "{'Suzie': 6, 'calvin': 5, 'Hobbes': 4}"
      ]
     },
     "execution_count": 5,
     "metadata": {},
     "output_type": "execute_result"
    }
   ],
   "source": [
    "names_and_ages"
   ]
  },
  {
   "cell_type": "code",
   "execution_count": 4,
   "id": "2d9a5b1f",
   "metadata": {},
   "outputs": [
    {
     "name": "stdout",
     "output_type": "stream",
     "text": [
      "5\n"
     ]
    }
   ],
   "source": [
    "print(names_and_ages[\"calvin\"])"
   ]
  },
  {
   "cell_type": "code",
   "execution_count": 7,
   "id": "ece5c90f",
   "metadata": {},
   "outputs": [
    {
     "data": {
      "text/plain": [
       "4"
      ]
     },
     "execution_count": 7,
     "metadata": {},
     "output_type": "execute_result"
    }
   ],
   "source": [
    "names_and_ages[\"Hobbes\"]"
   ]
  },
  {
   "cell_type": "code",
   "execution_count": 8,
   "id": "ac69f3f2",
   "metadata": {},
   "outputs": [
    {
     "data": {
      "text/plain": [
       "6"
      ]
     },
     "execution_count": 8,
     "metadata": {},
     "output_type": "execute_result"
    }
   ],
   "source": [
    "names_and_ages[\"Suzie\"]"
   ]
  },
  {
   "cell_type": "markdown",
   "id": "0598499d",
   "metadata": {},
   "source": [
    "#you can use the .keys()  function to display all the keys in that dictionary, you can also use the .values()fuction to display all the associated values of the the dictionary, also .items() fuction\n"
   ]
  },
  {
   "cell_type": "code",
   "execution_count": 11,
   "id": "ab4dda9f",
   "metadata": {},
   "outputs": [
    {
     "data": {
      "text/plain": [
       "dict_keys(['Suzie', 'calvin', 'Hobbes'])"
      ]
     },
     "execution_count": 11,
     "metadata": {},
     "output_type": "execute_result"
    }
   ],
   "source": [
    "names_and_ages.keys()"
   ]
  },
  {
   "cell_type": "code",
   "execution_count": 12,
   "id": "d3761aac",
   "metadata": {},
   "outputs": [
    {
     "data": {
      "text/plain": [
       "dict_values([6, 5, 4])"
      ]
     },
     "execution_count": 12,
     "metadata": {},
     "output_type": "execute_result"
    }
   ],
   "source": [
    "names_and_ages.values()"
   ]
  },
  {
   "cell_type": "code",
   "execution_count": 13,
   "id": "0828f374",
   "metadata": {},
   "outputs": [
    {
     "data": {
      "text/plain": [
       "dict_items([('Suzie', 6), ('calvin', 5), ('Hobbes', 4)])"
      ]
     },
     "execution_count": 13,
     "metadata": {},
     "output_type": "execute_result"
    }
   ],
   "source": [
    "names_and_ages.items() "
   ]
  },
  {
   "cell_type": "markdown",
   "id": "559e0ae1",
   "metadata": {},
   "source": [
    "#dictionary are mutable, means you can add or remove elements from the dictionary set."
   ]
  },
  {
   "cell_type": "code",
   "execution_count": 15,
   "id": "c7fdb773",
   "metadata": {},
   "outputs": [
    {
     "data": {
      "text/plain": [
       "{'Suzie': 6, 'calvin': 5, 'Hobbes': 4, 'Rowley': 15}"
      ]
     },
     "execution_count": 15,
     "metadata": {},
     "output_type": "execute_result"
    }
   ],
   "source": [
    "names_and_ages[\"Rowley\"] = 15\n",
    "\n",
    "names_and_ages"
   ]
  },
  {
   "cell_type": "markdown",
   "id": "ce3f3584",
   "metadata": {},
   "source": [
    "# you can use the pop() function to remove a certain key-value pair element in the dictionary"
   ]
  },
  {
   "cell_type": "code",
   "execution_count": 19,
   "id": "6beba767",
   "metadata": {},
   "outputs": [
    {
     "data": {
      "text/plain": [
       "{'Suzie': 6, 'Hobbes': 4, 'Rowley': 15}"
      ]
     },
     "execution_count": 19,
     "metadata": {},
     "output_type": "execute_result"
    }
   ],
   "source": [
    "names_and_ages.pop(\"calvin\")\n",
    "names_and_ages"
   ]
  },
  {
   "cell_type": "markdown",
   "id": "d26c9062",
   "metadata": {},
   "source": [
    "you can also use the del keyword to remove a key-value pair element in the dictionary"
   ]
  },
  {
   "cell_type": "code",
   "execution_count": 22,
   "id": "10cf3ffd",
   "metadata": {},
   "outputs": [
    {
     "ename": "KeyError",
     "evalue": "'Rowley'",
     "output_type": "error",
     "traceback": [
      "\u001b[1;31m---------------------------------------------------------------------------\u001b[0m",
      "\u001b[1;31mKeyError\u001b[0m                                  Traceback (most recent call last)",
      "\u001b[1;32m<ipython-input-22-e145dd6729bc>\u001b[0m in \u001b[0;36m<module>\u001b[1;34m\u001b[0m\n\u001b[1;32m----> 1\u001b[1;33m \u001b[1;32mdel\u001b[0m \u001b[0mnames_and_ages\u001b[0m\u001b[1;33m[\u001b[0m\u001b[1;34m\"Rowley\"\u001b[0m\u001b[1;33m]\u001b[0m\u001b[1;33m\u001b[0m\u001b[1;33m\u001b[0m\u001b[0m\n\u001b[0m\u001b[0;32m      2\u001b[0m \u001b[1;33m\u001b[0m\u001b[0m\n\u001b[0;32m      3\u001b[0m \u001b[0mnames_and_ages\u001b[0m\u001b[1;33m\u001b[0m\u001b[1;33m\u001b[0m\u001b[0m\n",
      "\u001b[1;31mKeyError\u001b[0m: 'Rowley'"
     ]
    }
   ],
   "source": [
    "del names_and_ages[\"Rowley\"]\n",
    "\n",
    "names_and_ages"
   ]
  },
  {
   "cell_type": "code",
   "execution_count": 23,
   "id": "3f37a178",
   "metadata": {},
   "outputs": [
    {
     "data": {
      "text/plain": [
       "{'Suzie': 6, 'Hobbes': 4}"
      ]
     },
     "execution_count": 23,
     "metadata": {},
     "output_type": "execute_result"
    }
   ],
   "source": [
    "names_and_ages"
   ]
  },
  {
   "cell_type": "code",
   "execution_count": 24,
   "id": "15981203",
   "metadata": {},
   "outputs": [],
   "source": [
    "Occupations_and_names = {\"Doctors\" : ['John', 'Nina', 'steve'],\n",
    "                         \"Engineers\": ['Bill', 'Emily', 'Jane'],\n",
    "                         \"Pilots\" : ['Sally', 'Richard', 'Bob']\n",
    "                        } "
   ]
  },
  {
   "cell_type": "code",
   "execution_count": 25,
   "id": "032be8eb",
   "metadata": {},
   "outputs": [
    {
     "data": {
      "text/plain": [
       "{'Doctors': ['John', 'Nina', 'steve'],\n",
       " 'Engineers': ['Bill', 'Emily', 'Jane'],\n",
       " 'Pilots': ['Sally', 'Richard', 'Bob']}"
      ]
     },
     "execution_count": 25,
     "metadata": {},
     "output_type": "execute_result"
    }
   ],
   "source": [
    "Occupations_and_names"
   ]
  },
  {
   "cell_type": "code",
   "execution_count": 26,
   "id": "4f3f6b47",
   "metadata": {},
   "outputs": [
    {
     "data": {
      "text/plain": [
       "'Bill'"
      ]
     },
     "execution_count": 26,
     "metadata": {},
     "output_type": "execute_result"
    }
   ],
   "source": [
    "Occupations_and_names['Engineers'][0]"
   ]
  },
  {
   "cell_type": "code",
   "execution_count": 27,
   "id": "36e90e7e",
   "metadata": {},
   "outputs": [
    {
     "data": {
      "text/plain": [
       "'steve'"
      ]
     },
     "execution_count": 27,
     "metadata": {},
     "output_type": "execute_result"
    }
   ],
   "source": [
    "Occupations_and_names['Doctors'][2]"
   ]
  },
  {
   "cell_type": "code",
   "execution_count": 28,
   "id": "99a465ca",
   "metadata": {},
   "outputs": [
    {
     "data": {
      "text/plain": [
       "'Richard'"
      ]
     },
     "execution_count": 28,
     "metadata": {},
     "output_type": "execute_result"
    }
   ],
   "source": [
    "Occupations_and_names['Pilots'][1]"
   ]
  },
  {
   "cell_type": "code",
   "execution_count": 29,
   "id": "9f47279d",
   "metadata": {},
   "outputs": [],
   "source": [
    "int_key_dict = { 1 : \"Susie\",\n",
    "                2 : \"Calvin\",\n",
    "                3 : \"Hobbes\"\n",
    "    \n",
    "                }"
   ]
  },
  {
   "cell_type": "code",
   "execution_count": 32,
   "id": "e1599e26",
   "metadata": {},
   "outputs": [
    {
     "data": {
      "text/plain": [
       "'Susie'"
      ]
     },
     "execution_count": 32,
     "metadata": {},
     "output_type": "execute_result"
    }
   ],
   "source": [
    "int_key_dict[1]"
   ]
  },
  {
   "cell_type": "code",
   "execution_count": 33,
   "id": "cad51ca6",
   "metadata": {},
   "outputs": [
    {
     "ename": "KeyError",
     "evalue": "9",
     "output_type": "error",
     "traceback": [
      "\u001b[1;31m---------------------------------------------------------------------------\u001b[0m",
      "\u001b[1;31mKeyError\u001b[0m                                  Traceback (most recent call last)",
      "\u001b[1;32m<ipython-input-33-2f9f425a27f3>\u001b[0m in \u001b[0;36m<module>\u001b[1;34m\u001b[0m\n\u001b[1;32m----> 1\u001b[1;33m \u001b[0mint_key_dict\u001b[0m\u001b[1;33m[\u001b[0m\u001b[1;36m9\u001b[0m\u001b[1;33m]\u001b[0m\u001b[1;33m\u001b[0m\u001b[1;33m\u001b[0m\u001b[0m\n\u001b[0m",
      "\u001b[1;31mKeyError\u001b[0m: 9"
     ]
    }
   ],
   "source": [
    "int_key_dict[9]"
   ]
  },
  {
   "cell_type": "code",
   "execution_count": null,
   "id": "1efd1ed1",
   "metadata": {},
   "outputs": [],
   "source": []
  }
 ],
 "metadata": {
  "kernelspec": {
   "display_name": "Python 3",
   "language": "python",
   "name": "python3"
  },
  "language_info": {
   "codemirror_mode": {
    "name": "ipython",
    "version": 3
   },
   "file_extension": ".py",
   "mimetype": "text/x-python",
   "name": "python",
   "nbconvert_exporter": "python",
   "pygments_lexer": "ipython3",
   "version": "3.8.8"
  }
 },
 "nbformat": 4,
 "nbformat_minor": 5
}
